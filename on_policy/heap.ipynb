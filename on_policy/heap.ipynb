{
 "cells": [
  {
   "cell_type": "code",
   "execution_count": 1,
   "metadata": {},
   "outputs": [],
   "source": [
    "import gym\n",
    "from scipy.special import expit as sigmoid\n",
    "import numpy as np\n",
    "import numpy.random as npr\n",
    "import time\n",
    "from itertools import count\n",
    "from collections import deque, namedtuple\n",
    "import matplotlib.pyplot as plt\n",
    "from a2c_ppo_acktr import utils\n",
    "import random\n",
    "from tqdm import tqdm, trange\n",
    "from a2c_ppo_acktr.model import DebugAttentionBase\n",
    "\n",
    "from heap import Heap"
   ]
  },
  {
   "cell_type": "code",
   "execution_count": 2,
   "metadata": {},
   "outputs": [],
   "source": [
    "class args(object):\n",
    "    bandwidth = 3\n",
    "    postwidth = 3\n",
    "    threshold = 0.5\n",
    "    signal_split = 2\n",
    "    att_num_heads = 4\n",
    "    fps = 3\n",
    "    eval_interval = 10\n",
    "    eval_num = 250\n",
    "    num_steps = 32\n",
    "    ppo_epoch = 4\n",
    "    value_loss_coef = 0.5\n",
    "    entropy_coef = 0.01\n",
    "    direction_loss_coef = 0\n",
    "    lr = 1e-4\n",
    "    eps = 1e-5\n",
    "    max_grad_norm = 0.2\n",
    "    clip_param = 0.2\n",
    "    gamma = 0.99\n",
    "    discount_mode = 'parallel'\n",
    "    parallel_envs = 32\n",
    "    quantile_truncate = 0.25"
   ]
  },
  {
   "cell_type": "code",
   "execution_count": 3,
   "metadata": {},
   "outputs": [
    {
     "name": "stderr",
     "output_type": "stream",
     "text": [
      "/home/f1ery/.local/lib/python3.6/site-packages/gym/logger.py:30: UserWarning: \u001b[33mWARN: Box bound precision lowered by casting to float32\u001b[0m\n",
      "  warnings.warn(colorize('%s: %s'%('WARN', msg % args), 'yellow'))\n"
     ]
    }
   ],
   "source": [
    "heap = Heap(4, 8, 1, args=args, post_process=None)"
   ]
  },
  {
   "cell_type": "code",
   "execution_count": 4,
   "metadata": {},
   "outputs": [],
   "source": [
    "pc = np.array(heap.postcodes)"
   ]
  },
  {
   "cell_type": "code",
   "execution_count": 5,
   "metadata": {},
   "outputs": [
    {
     "data": {
      "text/plain": [
       "0.6134421960202786"
      ]
     },
     "execution_count": 5,
     "metadata": {},
     "output_type": "execute_result"
    }
   ],
   "source": [
    "np.mean(np.sqrt(np.sum((pc[:, np.newaxis] - pc[np.newaxis, :])**2, axis=-1)))"
   ]
  },
  {
   "cell_type": "code",
   "execution_count": 6,
   "metadata": {},
   "outputs": [],
   "source": [
    "EnvTuple = namedtuple('EnvTuple', ['id', 'env', 'state', 'prev_state', 'rewards'])\n",
    "envs = [EnvTuple(id, gym.make('CartPole-v0'), None, None, deque(maxlen=args.eval_interval)) for id in range(args.parallel_envs)]\n",
    "eval_env = EnvTuple('eval', gym.make('CartPole-v0'), None, None, deque(maxlen=args.eval_num))\n",
    "fpses = deque(maxlen=500)\n",
    "def iterate_env(env):\n",
    "    if env.state is None:\n",
    "        env = env._replace(state=env.env.reset(), prev_state=env.state)\n",
    "        env.rewards.append(0)\n",
    "        heap.reset(env=env.id)\n",
    "    out_action, fps = heap(env.state, n=args.fps, env=env.id)\n",
    "    fpses.append(fps)\n",
    "    if out_action:\n",
    "        action = int(out_action[0] > 0.5)\n",
    "    else:\n",
    "        heap.done(env=env.id)\n",
    "        env = env._replace(state=None, prev_state=env.state)\n",
    "        return env\n",
    "    state, reward, done, _ = env.env.step(action)\n",
    "    heap.reward(reward, env=env.id)\n",
    "    env.rewards[-1] += reward\n",
    "    if done:\n",
    "        if env.rewards[-1] < 200:\n",
    "            heap.done(env=env.id)\n",
    "        env = env._replace(state=None, prev_state=state)\n",
    "        return env\n",
    "    env = env._replace(state=state, prev_state=env.state)\n",
    "    return env\n",
    "\n",
    "def eval(env, j=0):\n",
    "    env.rewards.clear()\n",
    "    with tqdm(total=args.eval_num) as pbar:\n",
    "        while True:\n",
    "            env = iterate_env(env)\n",
    "            if env.state is None:\n",
    "                pbar.update(1)\n",
    "                pbar.set_description('Eval | Avg. reward: %0.2f' % (sum(env.rewards)/len(env.rewards)))\n",
    "                if len(env.rewards) == args.eval_num:\n",
    "                    break\n",
    "    avg_eval_reward = sum(env.rewards)/len(env.rewards)\n",
    "    max_eval_reward = max(env.rewards)\n",
    "    min_eval_reward = min(env.rewards)\n",
    "    try:\n",
    "        avg_reward = sum([sum(env.rewards) for env in envs])/sum([len(env.rewards) for env in envs])\n",
    "        max_reward = max([max(env.rewards) for env in envs])\n",
    "        min_reward = min([min(env.rewards) for env in envs])\n",
    "    except:\n",
    "        avg_reward = float('nan')\n",
    "        max_reward = float('nan')\n",
    "        min_reward = float('nan')\n",
    "    print('Iter: %d, Avg/Max/Min. reward: %0.1f/%0.1f/%0.1f, Avg FPS: %0.2f\\nEval Avg/Max/Min. reward: %0.1f/%0.1f/%0.1f' % (j, avg_reward, max_reward, min_reward, sum(fpses)/len(fpses), avg_eval_reward, max_eval_reward, min_eval_reward))"
   ]
  },
  {
   "cell_type": "code",
   "execution_count": null,
   "metadata": {
    "scrolled": true
   },
   "outputs": [
    {
     "name": "stderr",
     "output_type": "stream",
     "text": [
      "Eval | Avg. reward: 1.08: 100%|██████████| 250/250 [00:21<00:00, 11.83it/s]\n",
      "  0%|          | 0/32 [00:00<?, ?it/s]"
     ]
    },
    {
     "name": "stdout",
     "output_type": "stream",
     "text": [
      "Iter: 0, Avg/Max/Min. reward: nan/nan/nan, Avg FPS: 1.88\n",
      "Eval Avg/Max/Min. reward: 1.1/13.0/0.0\n"
     ]
    },
    {
     "name": "stderr",
     "output_type": "stream",
     "text": [
      "Collect | Avg. reward: 1.19: 100%|██████████| 32/32 [00:39<00:00,  1.23s/it]\n",
      "Updating: 100%|██████████| 13/13 [05:34<00:00, 25.72s/it]\n",
      "Collect | Avg. reward: 3.73: 100%|██████████| 32/32 [00:43<00:00,  1.35s/it]\n",
      "Updating: 100%|██████████| 13/13 [04:39<00:00, 21.48s/it]\n",
      "Eval | Avg. reward: 18.32: 100%|██████████| 250/250 [03:05<00:00,  1.35it/s]\n"
     ]
    },
    {
     "name": "stdout",
     "output_type": "stream",
     "text": [
      "Iter: 560, Avg/Max/Min. reward: 3.7/34.0/0.0, Avg FPS: 0.18\n",
      "Eval Avg/Max/Min. reward: 18.3/82.0/0.0\n"
     ]
    },
    {
     "name": "stderr",
     "output_type": "stream",
     "text": [
      "Collect | Avg. reward: 6.76: 100%|██████████| 32/32 [00:40<00:00,  1.26s/it]\n",
      "Updating: 100%|██████████| 13/13 [04:25<00:00, 20.42s/it]\n",
      "Collect | Avg. reward: 9.69: 100%|██████████| 32/32 [00:40<00:00,  1.28s/it]\n",
      "Updating: 100%|██████████| 13/13 [04:29<00:00, 20.71s/it]\n",
      "Collect | Avg. reward: 12.52: 100%|██████████| 32/32 [00:39<00:00,  1.23s/it]\n",
      "Updating: 100%|██████████| 13/13 [04:20<00:00, 20.01s/it]\n",
      "Collect | Avg. reward: 15.09: 100%|██████████| 32/32 [00:39<00:00,  1.25s/it]\n",
      "Updating: 100%|██████████| 13/13 [04:21<00:00, 20.11s/it]\n",
      "Collect | Avg. reward: 16.84: 100%|██████████| 32/32 [00:40<00:00,  1.25s/it]\n",
      "Updating: 100%|██████████| 13/13 [04:22<00:00, 20.23s/it]\n",
      "Collect | Avg. reward: 18.18: 100%|██████████| 32/32 [00:40<00:00,  1.28s/it]\n",
      "Updating: 100%|██████████| 13/13 [04:28<00:00, 20.62s/it]\n",
      "Collect | Avg. reward: 18.14: 100%|██████████| 32/32 [00:40<00:00,  1.27s/it]\n",
      "Updating: 100%|██████████| 13/13 [04:25<00:00, 20.45s/it]\n",
      "Collect | Avg. reward: 18.00: 100%|██████████| 32/32 [00:40<00:00,  1.26s/it]\n",
      "Updating: 100%|██████████| 13/13 [04:25<00:00, 20.39s/it]\n",
      "Collect | Avg. reward: 18.10: 100%|██████████| 32/32 [00:39<00:00,  1.22s/it]\n",
      "Updating: 100%|██████████| 13/13 [04:16<00:00, 19.75s/it]\n",
      "Collect | Avg. reward: 18.25: 100%|██████████| 32/32 [00:39<00:00,  1.25s/it]\n",
      "Updating: 100%|██████████| 13/13 [04:20<00:00, 20.05s/it]\n",
      "Eval | Avg. reward: 20.68: 100%|██████████| 250/250 [03:23<00:00,  1.23it/s]\n",
      "  0%|          | 0/32 [00:00<?, ?it/s]"
     ]
    },
    {
     "name": "stdout",
     "output_type": "stream",
     "text": [
      "Iter: 570, Avg/Max/Min. reward: 18.3/76.0/0.0, Avg FPS: 0.19\n",
      "Eval Avg/Max/Min. reward: 20.7/70.0/0.0\n"
     ]
    },
    {
     "name": "stderr",
     "output_type": "stream",
     "text": [
      "Collect | Avg. reward: 18.58: 100%|██████████| 32/32 [00:39<00:00,  1.25s/it]\n",
      "Updating: 100%|██████████| 13/13 [04:21<00:00, 20.15s/it]\n",
      "Collect | Avg. reward: 18.11: 100%|██████████| 32/32 [00:40<00:00,  1.25s/it]\n",
      "Updating: 100%|██████████| 13/13 [04:21<00:00, 20.08s/it]\n",
      "Collect | Avg. reward: 18.47: 100%|██████████| 32/32 [00:40<00:00,  1.27s/it]\n",
      "Updating: 100%|██████████| 13/13 [04:27<00:00, 20.61s/it]\n",
      "Collect | Avg. reward: 18.76: 100%|██████████| 32/32 [00:39<00:00,  1.23s/it]\n",
      "Updating: 100%|██████████| 13/13 [04:18<00:00, 19.90s/it]\n",
      "Collect | Avg. reward: 19.02: 100%|██████████| 32/32 [00:40<00:00,  1.27s/it]\n",
      "Updating: 100%|██████████| 13/13 [04:25<00:00, 20.41s/it]\n",
      "Collect | Avg. reward: 19.35: 100%|██████████| 32/32 [00:40<00:00,  1.28s/it]\n",
      "Updating: 100%|██████████| 13/13 [04:27<00:00, 20.58s/it]\n",
      "Collect | Avg. reward: 19.13: 100%|██████████| 32/32 [00:41<00:00,  1.29s/it]\n",
      "Updating: 100%|██████████| 13/13 [04:30<00:00, 20.84s/it]\n",
      "Collect | Avg. reward: 18.78: 100%|██████████| 32/32 [00:41<00:00,  1.28s/it]\n",
      "Updating: 100%|██████████| 13/13 [04:29<00:00, 20.72s/it]\n",
      "Collect | Avg. reward: 19.06: 100%|██████████| 32/32 [00:40<00:00,  1.27s/it]\n",
      "Updating: 100%|██████████| 13/13 [04:27<00:00, 20.61s/it]\n",
      "Collect | Avg. reward: 18.48: 100%|██████████| 32/32 [00:40<00:00,  1.27s/it]\n",
      "Updating: 100%|██████████| 13/13 [04:26<00:00, 20.49s/it]\n",
      "Eval | Avg. reward: 17.39: 100%|██████████| 250/250 [02:54<00:00,  1.43it/s]\n"
     ]
    },
    {
     "name": "stdout",
     "output_type": "stream",
     "text": [
      "Iter: 580, Avg/Max/Min. reward: 18.5/81.0/0.0, Avg FPS: 0.21\n",
      "Eval Avg/Max/Min. reward: 17.4/79.0/0.0\n"
     ]
    },
    {
     "name": "stderr",
     "output_type": "stream",
     "text": [
      "Collect | Avg. reward: 18.75: 100%|██████████| 32/32 [00:41<00:00,  1.29s/it]\n",
      "Updating: 100%|██████████| 13/13 [04:30<00:00, 20.81s/it]\n",
      "Collect | Avg. reward: 18.74: 100%|██████████| 32/32 [00:40<00:00,  1.27s/it]\n",
      "Updating: 100%|██████████| 13/13 [04:27<00:00, 20.55s/it]\n",
      "Collect | Avg. reward: 19.33: 100%|██████████| 32/32 [00:40<00:00,  1.26s/it]\n",
      "Updating: 100%|██████████| 13/13 [04:23<00:00, 20.24s/it]\n",
      "Collect | Avg. reward: 19.21: 100%|██████████| 32/32 [00:40<00:00,  1.26s/it]\n",
      "Updating: 100%|██████████| 13/13 [04:25<00:00, 20.39s/it]\n",
      "Collect | Avg. reward: 19.94: 100%|██████████| 32/32 [00:39<00:00,  1.24s/it]\n",
      "Updating: 100%|██████████| 13/13 [04:21<00:00, 20.12s/it]\n",
      "Collect | Avg. reward: 20.31: 100%|██████████| 32/32 [00:40<00:00,  1.26s/it]\n",
      "Updating: 100%|██████████| 13/13 [04:23<00:00, 20.28s/it]\n",
      "Collect | Avg. reward: 20.06: 100%|██████████| 32/32 [00:39<00:00,  1.25s/it]\n",
      "Updating: 100%|██████████| 13/13 [04:21<00:00, 20.11s/it]\n",
      "Collect | Avg. reward: 19.05: 100%|██████████| 32/32 [00:41<00:00,  1.29s/it]\n",
      "Updating: 100%|██████████| 13/13 [04:29<00:00, 20.75s/it]\n",
      "Collect | Avg. reward: 18.75: 100%|██████████| 32/32 [00:40<00:00,  1.25s/it]\n",
      "Updating: 100%|██████████| 13/13 [04:22<00:00, 20.17s/it]\n",
      "Collect | Avg. reward: 18.11: 100%|██████████| 32/32 [00:40<00:00,  1.26s/it]\n",
      "Updating: 100%|██████████| 13/13 [04:24<00:00, 20.34s/it]\n",
      "Eval | Avg. reward: 19.33: 100%|██████████| 250/250 [03:10<00:00,  1.31it/s]\n",
      "  0%|          | 0/32 [00:00<?, ?it/s]"
     ]
    },
    {
     "name": "stdout",
     "output_type": "stream",
     "text": [
      "Iter: 590, Avg/Max/Min. reward: 18.1/70.0/0.0, Avg FPS: 0.15\n",
      "Eval Avg/Max/Min. reward: 19.3/57.0/0.0\n"
     ]
    },
    {
     "name": "stderr",
     "output_type": "stream",
     "text": [
      "Collect | Avg. reward: 17.92: 100%|██████████| 32/32 [00:40<00:00,  1.25s/it]\n",
      "Updating: 100%|██████████| 13/13 [04:22<00:00, 20.19s/it]\n",
      "Collect | Avg. reward: 18.13: 100%|██████████| 32/32 [00:39<00:00,  1.23s/it]\n",
      "Updating: 100%|██████████| 13/13 [04:17<00:00, 19.81s/it]\n",
      "Collect | Avg. reward: 18.32: 100%|██████████| 32/32 [00:39<00:00,  1.24s/it]\n",
      "Updating: 100%|██████████| 13/13 [04:19<00:00, 19.97s/it]\n",
      "Collect | Avg. reward: 18.48: 100%|██████████| 32/32 [00:40<00:00,  1.26s/it]\n",
      "Updating: 100%|██████████| 13/13 [04:23<00:00, 20.24s/it]\n",
      "Collect | Avg. reward: 18.73: 100%|██████████| 32/32 [00:39<00:00,  1.24s/it]\n",
      "Updating: 100%|██████████| 13/13 [04:20<00:00, 20.02s/it]\n",
      "Collect | Avg. reward: 19.20: 100%|██████████| 32/32 [00:39<00:00,  1.24s/it]\n",
      "Updating: 100%|██████████| 13/13 [04:19<00:00, 19.97s/it]\n",
      "Collect | Avg. reward: 18.06: 100%|██████████| 32/32 [00:39<00:00,  1.24s/it]\n",
      "Updating: 100%|██████████| 13/13 [04:20<00:00, 20.06s/it]\n",
      "Collect | Avg. reward: 17.96: 100%|██████████| 32/32 [00:40<00:00,  1.25s/it]\n",
      "Updating: 100%|██████████| 13/13 [04:22<00:00, 20.16s/it]\n",
      "Collect | Avg. reward: 18.78: 100%|██████████| 32/32 [00:39<00:00,  1.23s/it]\n",
      "Updating: 100%|██████████| 13/13 [04:16<00:00, 19.74s/it]\n",
      "Collect | Avg. reward: 19.15: 100%|██████████| 32/32 [00:39<00:00,  1.23s/it]\n",
      "Updating: 100%|██████████| 13/13 [04:17<00:00, 19.80s/it]\n",
      "Eval | Avg. reward: 19.93: 100%|██████████| 250/250 [03:12<00:00,  1.30it/s]\n",
      "  0%|          | 0/32 [00:00<?, ?it/s]"
     ]
    },
    {
     "name": "stdout",
     "output_type": "stream",
     "text": [
      "Iter: 600, Avg/Max/Min. reward: 19.1/80.0/0.0, Avg FPS: 0.16\n",
      "Eval Avg/Max/Min. reward: 19.9/93.0/0.0\n"
     ]
    },
    {
     "name": "stderr",
     "output_type": "stream",
     "text": [
      "Collect | Avg. reward: 19.09: 100%|██████████| 32/32 [00:38<00:00,  1.21s/it]\n",
      "Updating: 100%|██████████| 13/13 [04:14<00:00, 19.54s/it]\n",
      "Collect | Avg. reward: 18.63: 100%|██████████| 32/32 [00:38<00:00,  1.21s/it]\n",
      "Updating: 100%|██████████| 13/13 [04:13<00:00, 19.49s/it]\n",
      "Collect | Avg. reward: 18.36: 100%|██████████| 32/32 [00:38<00:00,  1.21s/it]\n",
      "Updating: 100%|██████████| 13/13 [04:12<00:00, 19.45s/it]\n",
      "Collect | Avg. reward: 18.64: 100%|██████████| 32/32 [00:38<00:00,  1.22s/it]\n",
      "Updating: 100%|██████████| 13/13 [04:14<00:00, 19.61s/it]\n",
      "Collect | Avg. reward: 18.47: 100%|██████████| 32/32 [00:38<00:00,  1.21s/it]\n",
      "Updating: 100%|██████████| 13/13 [04:13<00:00, 19.50s/it]\n",
      "Collect | Avg. reward: 18.61: 100%|██████████| 32/32 [00:38<00:00,  1.19s/it]\n",
      "Updating: 100%|██████████| 13/13 [04:10<00:00, 19.26s/it]\n",
      "Collect | Avg. reward: 18.63: 100%|██████████| 32/32 [00:38<00:00,  1.20s/it]\n",
      "Updating: 100%|██████████| 13/13 [04:11<00:00, 19.38s/it]\n",
      "Collect | Avg. reward: 18.86: 100%|██████████| 32/32 [00:38<00:00,  1.19s/it]\n",
      "Updating: 100%|██████████| 13/13 [04:10<00:00, 19.26s/it]\n",
      "Collect | Avg. reward: 19.19: 100%|██████████| 32/32 [00:38<00:00,  1.20s/it]\n",
      "Updating: 100%|██████████| 13/13 [04:11<00:00, 19.32s/it]\n",
      "Collect | Avg. reward: 19.02: 100%|██████████| 32/32 [00:38<00:00,  1.19s/it]\n",
      "Updating: 100%|██████████| 13/13 [04:09<00:00, 19.20s/it]\n",
      "Eval | Avg. reward: 18.96: 100%|██████████| 250/250 [02:57<00:00,  1.41it/s]\n"
     ]
    },
    {
     "name": "stdout",
     "output_type": "stream",
     "text": [
      "Iter: 610, Avg/Max/Min. reward: 19.0/78.0/0.0, Avg FPS: 0.12\n",
      "Eval Avg/Max/Min. reward: 19.0/103.0/0.0\n"
     ]
    },
    {
     "name": "stderr",
     "output_type": "stream",
     "text": [
      "Collect | Avg. reward: 19.41: 100%|██████████| 32/32 [00:38<00:00,  1.19s/it]\n",
      "Updating: 100%|██████████| 13/13 [04:08<00:00, 19.10s/it]\n",
      "Collect | Avg. reward: 19.87: 100%|██████████| 32/32 [00:37<00:00,  1.18s/it]\n",
      "Updating: 100%|██████████| 13/13 [04:08<00:00, 19.10s/it]\n",
      "Collect | Avg. reward: 19.88: 100%|██████████| 32/32 [00:38<00:00,  1.21s/it]\n",
      "Updating: 100%|██████████| 13/13 [04:12<00:00, 19.44s/it]\n",
      "Collect | Avg. reward: 20.11: 100%|██████████| 32/32 [00:37<00:00,  1.18s/it]\n",
      "Updating: 100%|██████████| 13/13 [04:05<00:00, 18.92s/it]\n",
      "Collect | Avg. reward: 19.55: 100%|██████████| 32/32 [00:37<00:00,  1.18s/it]\n",
      "Updating: 100%|██████████| 13/13 [04:06<00:00, 19.00s/it]\n",
      "Collect | Avg. reward: 19.25: 100%|██████████| 32/32 [00:37<00:00,  1.19s/it]\n",
      "Updating: 100%|██████████| 13/13 [04:08<00:00, 19.09s/it]\n",
      "Collect | Avg. reward: 19.78: 100%|██████████| 32/32 [00:38<00:00,  1.20s/it]\n",
      "Updating: 100%|██████████| 13/13 [04:11<00:00, 19.36s/it]\n",
      "Collect | Avg. reward: 19.73: 100%|██████████| 32/32 [00:38<00:00,  1.19s/it]\n",
      "Updating: 100%|██████████| 13/13 [04:08<00:00, 19.15s/it]\n",
      "Collect | Avg. reward: 19.44: 100%|██████████| 32/32 [00:37<00:00,  1.18s/it]\n",
      "Updating: 100%|██████████| 13/13 [04:07<00:00, 19.03s/it]\n",
      "Collect | Avg. reward: 19.19: 100%|██████████| 32/32 [00:38<00:00,  1.20s/it]\n",
      "Updating: 100%|██████████| 13/13 [04:10<00:00, 19.26s/it]\n",
      "Updating: 100%|██████████| 13/13 [04:08<00:00, 19.15s/it]2<00:53,  1.71it/s]\n",
      "Collect | Avg. reward: 18.71: 100%|██████████| 32/32 [00:37<00:00,  1.17s/it]\n",
      "Updating: 100%|██████████| 13/13 [04:05<00:00, 18.91s/it]\n",
      "Collect | Avg. reward: 19.00: 100%|██████████| 32/32 [00:37<00:00,  1.18s/it]\n",
      "Updating: 100%|██████████| 13/13 [04:06<00:00, 18.99s/it]\n",
      "Collect | Avg. reward: 18.78: 100%|██████████| 32/32 [00:37<00:00,  1.18s/it]\n",
      "Updating: 100%|██████████| 13/13 [04:08<00:00, 19.08s/it]\n",
      "Collect | Avg. reward: 18.29: 100%|██████████| 32/32 [00:37<00:00,  1.17s/it]\n",
      "Updating: 100%|██████████| 13/13 [04:05<00:00, 18.85s/it]\n",
      "Collect | Avg. reward: 19.34: 100%|██████████| 32/32 [00:37<00:00,  1.17s/it]\n",
      "Updating: 100%|██████████| 13/13 [04:05<00:00, 18.91s/it]\n",
      "Collect | Avg. reward: 19.41: 100%|██████████| 32/32 [00:37<00:00,  1.18s/it]\n",
      "Updating: 100%|██████████| 13/13 [04:07<00:00, 19.04s/it]\n",
      "Collect | Avg. reward: 19.65: 100%|██████████| 32/32 [00:37<00:00,  1.17s/it]\n",
      "Updating: 100%|██████████| 13/13 [04:03<00:00, 18.77s/it]\n",
      "Collect | Avg. reward: 19.72: 100%|██████████| 32/32 [00:37<00:00,  1.18s/it]\n",
      "Updating: 100%|██████████| 13/13 [04:07<00:00, 19.00s/it]\n",
      "Collect | Avg. reward: 19.92: 100%|██████████| 32/32 [00:37<00:00,  1.16s/it]\n",
      "Updating: 100%|██████████| 13/13 [04:04<00:00, 18.80s/it]\n",
      "Eval | Avg. reward: 20.44: 100%|██████████| 250/250 [03:06<00:00,  1.34it/s]\n",
      "  0%|          | 0/32 [00:00<?, ?it/s]"
     ]
    },
    {
     "name": "stdout",
     "output_type": "stream",
     "text": [
      "Iter: 630, Avg/Max/Min. reward: 19.9/78.0/0.0, Avg FPS: 0.13\n",
      "Eval Avg/Max/Min. reward: 20.4/67.0/0.0\n"
     ]
    },
    {
     "name": "stderr",
     "output_type": "stream",
     "text": [
      "Collect | Avg. reward: 19.96: 100%|██████████| 32/32 [00:37<00:00,  1.17s/it]\n",
      "Updating: 100%|██████████| 13/13 [04:05<00:00, 18.87s/it]\n",
      "Collect | Avg. reward: 19.68: 100%|██████████| 32/32 [00:37<00:00,  1.16s/it]\n",
      "Updating: 100%|██████████| 13/13 [04:03<00:00, 18.76s/it]\n",
      "Collect | Avg. reward: 20.12: 100%|██████████| 32/32 [00:37<00:00,  1.18s/it]\n",
      "Updating: 100%|██████████| 13/13 [04:07<00:00, 19.04s/it]\n",
      "Collect | Avg. reward: 20.06: 100%|██████████| 32/32 [00:37<00:00,  1.17s/it]\n",
      "Updating: 100%|██████████| 13/13 [04:04<00:00, 18.77s/it]\n",
      "Collect | Avg. reward: 20.14: 100%|██████████| 32/32 [00:37<00:00,  1.18s/it]\n",
      "Updating: 100%|██████████| 13/13 [04:06<00:00, 18.95s/it]\n",
      "Collect | Avg. reward: 20.42: 100%|██████████| 32/32 [00:37<00:00,  1.17s/it]\n",
      "Updating: 100%|██████████| 13/13 [04:05<00:00, 18.89s/it]\n",
      "Collect | Avg. reward: 20.27: 100%|██████████| 32/32 [00:37<00:00,  1.17s/it]\n",
      "Updating: 100%|██████████| 13/13 [04:05<00:00, 18.88s/it]\n",
      "Collect | Avg. reward: 20.16: 100%|██████████| 32/32 [00:36<00:00,  1.15s/it]\n",
      "Updating: 100%|██████████| 13/13 [04:00<00:00, 18.53s/it]\n",
      "Collect | Avg. reward: 19.77: 100%|██████████| 32/32 [00:37<00:00,  1.17s/it]\n",
      "Updating: 100%|██████████| 13/13 [04:03<00:00, 18.75s/it]\n",
      "Collect | Avg. reward: 19.52: 100%|██████████| 32/32 [00:37<00:00,  1.17s/it]\n",
      "Updating: 100%|██████████| 13/13 [04:05<00:00, 18.88s/it]\n",
      "Eval | Avg. reward: 21.12: 100%|██████████| 250/250 [03:13<00:00,  1.29it/s]\n",
      "  0%|          | 0/32 [00:00<?, ?it/s]"
     ]
    },
    {
     "name": "stdout",
     "output_type": "stream",
     "text": [
      "Iter: 640, Avg/Max/Min. reward: 19.5/108.0/0.0, Avg FPS: 0.08\n",
      "Eval Avg/Max/Min. reward: 21.1/71.0/0.0\n"
     ]
    },
    {
     "name": "stderr",
     "output_type": "stream",
     "text": [
      "Collect | Avg. reward: 19.61: 100%|██████████| 32/32 [00:37<00:00,  1.17s/it]\n",
      "Updating: 100%|██████████| 13/13 [04:05<00:00, 18.86s/it]\n",
      "Collect | Avg. reward: 19.52: 100%|██████████| 32/32 [00:37<00:00,  1.17s/it]\n",
      "Updating: 100%|██████████| 13/13 [04:03<00:00, 18.75s/it]\n",
      "Collect | Avg. reward: 19.72: 100%|██████████| 32/32 [00:37<00:00,  1.16s/it]\n",
      "Updating: 100%|██████████| 13/13 [04:03<00:00, 18.70s/it]\n",
      "Collect | Avg. reward: 19.90: 100%|██████████| 32/32 [00:37<00:00,  1.16s/it]\n",
      "Updating: 100%|██████████| 13/13 [04:04<00:00, 18.83s/it]\n",
      "Collect | Avg. reward: 19.71: 100%|██████████| 32/32 [00:37<00:00,  1.17s/it]\n",
      "Updating: 100%|██████████| 13/13 [04:05<00:00, 18.88s/it]\n",
      "Collect | Avg. reward: 19.78:  41%|████      | 13/32 [00:15<00:22,  1.18s/it]IOPub message rate exceeded.\n",
      "The notebook server will temporarily stop sending output\n",
      "to the client in order to avoid crashing it.\n",
      "To change this limit, set the config variable\n",
      "`--NotebookApp.iopub_msg_rate_limit`.\n",
      "\n",
      "Current values:\n",
      "NotebookApp.iopub_msg_rate_limit=1000.0 (msgs/sec)\n",
      "NotebookApp.rate_limit_window=3.0 (secs)\n",
      "\n",
      "Collect | Avg. reward: 21.14: 100%|██████████| 32/32 [00:36<00:00,  1.16s/it]\n",
      "Updating: 100%|██████████| 13/13 [04:00<00:00, 18.53s/it]\n",
      "Collect | Avg. reward: 21.82: 100%|██████████| 32/32 [00:37<00:00,  1.17s/it]\n",
      "Updating: 100%|██████████| 13/13 [04:04<00:00, 18.79s/it]\n",
      "Collect | Avg. reward: 22.14: 100%|██████████| 32/32 [00:36<00:00,  1.15s/it]\n",
      "Updating: 100%|██████████| 13/13 [04:02<00:00, 18.68s/it]\n",
      "Collect | Avg. reward: 21.46: 100%|██████████| 32/32 [00:37<00:00,  1.16s/it]\n",
      "Updating: 100%|██████████| 13/13 [04:03<00:00, 18.76s/it]\n",
      "Collect | Avg. reward: 21.65: 100%|██████████| 32/32 [00:37<00:00,  1.16s/it]\n",
      "Updating: 100%|██████████| 13/13 [04:02<00:00, 18.66s/it]\n",
      "Collect | Avg. reward: 21.62: 100%|██████████| 32/32 [00:37<00:00,  1.16s/it]\n",
      "Updating: 100%|██████████| 13/13 [04:03<00:00, 18.72s/it]\n",
      "Collect | Avg. reward: 21.58: 100%|██████████| 32/32 [00:37<00:00,  1.16s/it]\n",
      "Updating: 100%|██████████| 13/13 [04:03<00:00, 18.72s/it]\n",
      "Eval | Avg. reward: 21.29: 100%|██████████| 250/250 [03:16<00:00,  1.27it/s]\n"
     ]
    },
    {
     "name": "stdout",
     "output_type": "stream",
     "text": [
      "Iter: 670, Avg/Max/Min. reward: 21.6/136.0/0.0, Avg FPS: 0.09\n",
      "Eval Avg/Max/Min. reward: 21.3/68.0/0.0\n"
     ]
    },
    {
     "name": "stderr",
     "output_type": "stream",
     "text": [
      "Collect | Avg. reward: 20.86: 100%|██████████| 32/32 [00:37<00:00,  1.18s/it]\n",
      "Updating: 100%|██████████| 13/13 [04:06<00:00, 18.99s/it]\n",
      "Collect | Avg. reward: 20.96: 100%|██████████| 32/32 [00:37<00:00,  1.16s/it]\n",
      "Updating: 100%|██████████| 13/13 [04:04<00:00, 18.81s/it]\n",
      "Collect | Avg. reward: 21.38: 100%|██████████| 32/32 [00:37<00:00,  1.18s/it]\n",
      "Updating: 100%|██████████| 13/13 [04:06<00:00, 18.96s/it]\n",
      "Collect | Avg. reward: 21.09: 100%|██████████| 32/32 [00:36<00:00,  1.15s/it]\n",
      "Updating: 100%|██████████| 13/13 [04:02<00:00, 18.64s/it]\n",
      "Collect | Avg. reward: 20.49: 100%|██████████| 32/32 [00:37<00:00,  1.18s/it]\n",
      "Updating: 100%|██████████| 13/13 [04:06<00:00, 18.96s/it]\n",
      "Collect | Avg. reward: 20.31: 100%|██████████| 32/32 [00:36<00:00,  1.16s/it]\n",
      "Updating: 100%|██████████| 13/13 [04:01<00:00, 18.56s/it]\n",
      "Collect | Avg. reward: 20.45: 100%|██████████| 32/32 [00:37<00:00,  1.16s/it]\n",
      "Updating: 100%|██████████| 13/13 [04:04<00:00, 18.84s/it]\n",
      "Collect | Avg. reward: 19.75: 100%|██████████| 32/32 [00:37<00:00,  1.17s/it]\n",
      "Updating: 100%|██████████| 13/13 [04:04<00:00, 18.84s/it]\n",
      "Collect | Avg. reward: 19.65: 100%|██████████| 32/32 [00:37<00:00,  1.16s/it]\n",
      "Updating: 100%|██████████| 13/13 [04:03<00:00, 18.74s/it]\n",
      "Collect | Avg. reward: 20.25: 100%|██████████| 32/32 [00:36<00:00,  1.15s/it]\n",
      "Updating: 100%|██████████| 13/13 [04:01<00:00, 18.61s/it]\n",
      "Eval | Avg. reward: 21.90: 100%|██████████| 250/250 [03:19<00:00,  1.25it/s]\n"
     ]
    },
    {
     "name": "stdout",
     "output_type": "stream",
     "text": [
      "Iter: 680, Avg/Max/Min. reward: 20.3/58.0/0.0, Avg FPS: 0.08\n",
      "Eval Avg/Max/Min. reward: 21.9/91.0/0.0\n"
     ]
    },
    {
     "name": "stderr",
     "output_type": "stream",
     "text": [
      "Collect | Avg. reward: 20.43: 100%|██████████| 32/32 [00:36<00:00,  1.14s/it]\n",
      "Updating: 100%|██████████| 13/13 [03:59<00:00, 18.43s/it]\n",
      "Collect | Avg. reward: 20.00: 100%|██████████| 32/32 [00:37<00:00,  1.16s/it]\n",
      "Updating: 100%|██████████| 13/13 [04:02<00:00, 18.62s/it]\n",
      "Collect | Avg. reward: 19.77: 100%|██████████| 32/32 [00:37<00:00,  1.16s/it]\n",
      "Updating: 100%|██████████| 13/13 [04:03<00:00, 18.75s/it]\n",
      "Collect | Avg. reward: 19.82: 100%|██████████| 32/32 [00:37<00:00,  1.16s/it]\n",
      "Updating: 100%|██████████| 13/13 [04:03<00:00, 18.72s/it]\n",
      "Collect | Avg. reward: 19.69: 100%|██████████| 32/32 [00:37<00:00,  1.16s/it]\n",
      "Updating: 100%|██████████| 13/13 [04:03<00:00, 18.72s/it]\n",
      "Collect | Avg. reward: 20.23: 100%|██████████| 32/32 [00:36<00:00,  1.15s/it]\n",
      "Updating: 100%|██████████| 13/13 [04:02<00:00, 18.63s/it]\n",
      "Collect | Avg. reward: 19.56: 100%|██████████| 32/32 [00:37<00:00,  1.16s/it]\n",
      "Updating: 100%|██████████| 13/13 [04:03<00:00, 18.73s/it]\n",
      "Collect | Avg. reward: 19.70: 100%|██████████| 32/32 [00:37<00:00,  1.17s/it]\n",
      "Updating: 100%|██████████| 13/13 [04:05<00:00, 18.85s/it]\n",
      "Collect | Avg. reward: 19.74:   9%|▉         | 3/32 [00:03<00:34,  1.20s/it]IOPub message rate exceeded.\n",
      "The notebook server will temporarily stop sending output\n",
      "to the client in order to avoid crashing it.\n",
      "To change this limit, set the config variable\n",
      "`--NotebookApp.iopub_msg_rate_limit`.\n",
      "\n",
      "Current values:\n",
      "NotebookApp.iopub_msg_rate_limit=1000.0 (msgs/sec)\n",
      "NotebookApp.rate_limit_window=3.0 (secs)\n",
      "\n",
      "Collect | Avg. reward: 20.90: 100%|██████████| 32/32 [00:37<00:00,  1.17s/it]\n",
      "Updating: 100%|██████████| 13/13 [04:04<00:00, 18.79s/it]\n",
      "Collect | Avg. reward: 20.70: 100%|██████████| 32/32 [00:37<00:00,  1.17s/it]\n",
      "Updating: 100%|██████████| 13/13 [04:04<00:00, 18.80s/it]\n",
      "Collect | Avg. reward: 20.23: 100%|██████████| 32/32 [00:36<00:00,  1.15s/it]\n",
      "Updating: 100%|██████████| 13/13 [04:02<00:00, 18.63s/it]\n",
      "Collect | Avg. reward: 20.27: 100%|██████████| 32/32 [00:37<00:00,  1.17s/it]\n",
      "Updating: 100%|██████████| 13/13 [04:05<00:00, 18.87s/it]\n",
      "Collect | Avg. reward: 20.07: 100%|██████████| 32/32 [00:37<00:00,  1.16s/it]\n",
      "Updating: 100%|██████████| 13/13 [04:03<00:00, 18.72s/it]\n",
      "Collect | Avg. reward: 20.11: 100%|██████████| 32/32 [00:37<00:00,  1.16s/it]\n",
      "Updating: 100%|██████████| 13/13 [04:04<00:00, 18.79s/it]\n",
      "Eval | Avg. reward: 20.29: 100%|██████████| 250/250 [03:03<00:00,  1.36it/s]\n"
     ]
    },
    {
     "name": "stdout",
     "output_type": "stream",
     "text": [
      "Iter: 710, Avg/Max/Min. reward: 20.1/57.0/0.0, Avg FPS: 0.06\n",
      "Eval Avg/Max/Min. reward: 20.3/63.0/0.0\n"
     ]
    },
    {
     "name": "stderr",
     "output_type": "stream",
     "text": [
      "Collect | Avg. reward: 19.90: 100%|██████████| 32/32 [00:37<00:00,  1.16s/it]\n",
      "Updating: 100%|██████████| 13/13 [03:58<00:00, 18.38s/it]\n",
      "Collect | Avg. reward: 20.38: 100%|██████████| 32/32 [00:37<00:00,  1.17s/it]\n",
      "Updating: 100%|██████████| 13/13 [04:04<00:00, 18.81s/it]\n",
      "Collect | Avg. reward: 20.65: 100%|██████████| 32/32 [00:36<00:00,  1.16s/it]\n",
      "Updating: 100%|██████████| 13/13 [04:02<00:00, 18.66s/it]\n",
      "Collect | Avg. reward: 20.51: 100%|██████████| 32/32 [00:36<00:00,  1.15s/it]\n",
      "Updating: 100%|██████████| 13/13 [04:01<00:00, 18.56s/it]\n",
      "Collect | Avg. reward: 20.28: 100%|██████████| 32/32 [00:37<00:00,  1.17s/it]\n",
      "Updating: 100%|██████████| 13/13 [04:03<00:00, 18.77s/it]\n",
      "Collect | Avg. reward: 19.99: 100%|██████████| 32/32 [00:37<00:00,  1.16s/it]\n",
      "Updating: 100%|██████████| 13/13 [04:03<00:00, 18.71s/it]\n",
      "Collect | Avg. reward: 20.12: 100%|██████████| 32/32 [00:37<00:00,  1.16s/it]\n",
      "Updating: 100%|██████████| 13/13 [04:02<00:00, 18.68s/it]\n",
      "Collect | Avg. reward: 20.06: 100%|██████████| 32/32 [00:36<00:00,  1.15s/it]\n",
      "Updating: 100%|██████████| 13/13 [04:02<00:00, 18.69s/it]\n",
      "Collect | Avg. reward: 19.87: 100%|██████████| 32/32 [00:36<00:00,  1.15s/it]\n",
      "Updating: 100%|██████████| 13/13 [04:02<00:00, 18.63s/it]\n",
      "Collect | Avg. reward: 20.50: 100%|██████████| 32/32 [00:36<00:00,  1.14s/it]\n",
      "Updating: 100%|██████████| 13/13 [03:58<00:00, 18.37s/it]\n",
      "Eval | Avg. reward: 22.68: 100%|██████████| 250/250 [03:24<00:00,  1.22it/s]\n"
     ]
    },
    {
     "name": "stdout",
     "output_type": "stream",
     "text": [
      "Iter: 720, Avg/Max/Min. reward: 20.5/97.0/0.0, Avg FPS: 0.04\n",
      "Eval Avg/Max/Min. reward: 22.7/94.0/0.0\n"
     ]
    },
    {
     "name": "stderr",
     "output_type": "stream",
     "text": [
      "Collect | Avg. reward: 20.68: 100%|██████████| 32/32 [00:36<00:00,  1.15s/it]\n",
      "Updating: 100%|██████████| 13/13 [04:00<00:00, 18.53s/it]\n",
      "Collect | Avg. reward: 20.96: 100%|██████████| 32/32 [00:36<00:00,  1.15s/it]\n",
      "Updating: 100%|██████████| 13/13 [04:01<00:00, 18.59s/it]\n",
      "Collect | Avg. reward: 20.90: 100%|██████████| 32/32 [00:36<00:00,  1.15s/it]\n",
      "Updating: 100%|██████████| 13/13 [04:01<00:00, 18.58s/it]\n",
      "Collect | Avg. reward: 21.29: 100%|██████████| 32/32 [00:37<00:00,  1.16s/it]\n",
      "Updating: 100%|██████████| 13/13 [04:01<00:00, 18.60s/it]\n",
      "Collect | Avg. reward: 21.24: 100%|██████████| 32/32 [00:37<00:00,  1.16s/it]\n",
      "Updating: 100%|██████████| 13/13 [04:02<00:00, 18.66s/it]\n",
      "Collect | Avg. reward: 22.12: 100%|██████████| 32/32 [00:36<00:00,  1.14s/it]\n",
      "Updating: 100%|██████████| 13/13 [04:00<00:00, 18.49s/it]\n",
      "Collect | Avg. reward: 22.30: 100%|██████████| 32/32 [00:36<00:00,  1.15s/it]\n",
      "Updating: 100%|██████████| 13/13 [04:00<00:00, 18.54s/it]\n",
      "Collect | Avg. reward: 21.92: 100%|██████████| 32/32 [00:36<00:00,  1.14s/it]\n",
      "Updating: 100%|██████████| 13/13 [03:58<00:00, 18.32s/it]\n",
      "Collect | Avg. reward: 21.70:  72%|███████▏  | 23/32 [00:26<00:10,  1.12s/it]IOPub message rate exceeded.\n",
      "The notebook server will temporarily stop sending output\n",
      "to the client in order to avoid crashing it.\n",
      "To change this limit, set the config variable\n",
      "`--NotebookApp.iopub_msg_rate_limit`.\n",
      "\n",
      "Current values:\n",
      "NotebookApp.iopub_msg_rate_limit=1000.0 (msgs/sec)\n",
      "NotebookApp.rate_limit_window=3.0 (secs)\n",
      "\n",
      "Eval | Avg. reward: 23.08: 100%|██████████| 250/250 [03:19<00:00,  1.25it/s]\n"
     ]
    },
    {
     "name": "stdout",
     "output_type": "stream",
     "text": [
      "Iter: 740, Avg/Max/Min. reward: 21.2/73.0/0.0, Avg FPS: 0.04\n",
      "Eval Avg/Max/Min. reward: 23.1/88.0/0.0\n"
     ]
    },
    {
     "name": "stderr",
     "output_type": "stream",
     "text": [
      "Collect | Avg. reward: 21.33: 100%|██████████| 32/32 [00:35<00:00,  1.12s/it]\n",
      "Updating: 100%|██████████| 13/13 [03:55<00:00, 18.11s/it]\n",
      "Collect | Avg. reward: 21.29: 100%|██████████| 32/32 [00:35<00:00,  1.12s/it]\n",
      "Updating: 100%|██████████| 13/13 [03:54<00:00, 18.05s/it]\n",
      "Collect | Avg. reward: 21.33: 100%|██████████| 32/32 [00:35<00:00,  1.12s/it]\n",
      "Updating: 100%|██████████| 13/13 [03:54<00:00, 18.07s/it]\n",
      "Collect | Avg. reward: 22.18: 100%|██████████| 32/32 [00:35<00:00,  1.12s/it]\n",
      "Updating: 100%|██████████| 13/13 [03:54<00:00, 18.03s/it]\n",
      "Collect | Avg. reward: 22.05: 100%|██████████| 32/32 [00:35<00:00,  1.11s/it]\n",
      "Updating: 100%|██████████| 13/13 [03:53<00:00, 17.98s/it]\n",
      "Collect | Avg. reward: 22.34: 100%|██████████| 32/32 [00:35<00:00,  1.12s/it]\n",
      "Updating: 100%|██████████| 13/13 [03:55<00:00, 18.11s/it]\n",
      "Collect | Avg. reward: 22.09: 100%|██████████| 32/32 [00:35<00:00,  1.12s/it]\n",
      "Updating: 100%|██████████| 13/13 [03:57<00:00, 18.23s/it]\n",
      "Collect | Avg. reward: 21.87: 100%|██████████| 32/32 [00:36<00:00,  1.13s/it]\n",
      "Updating: 100%|██████████| 13/13 [03:57<00:00, 18.26s/it]\n",
      "Collect | Avg. reward: 21.65: 100%|██████████| 32/32 [00:35<00:00,  1.12s/it]\n",
      "Updating: 100%|██████████| 13/13 [03:54<00:00, 18.06s/it]\n",
      "Collect | Avg. reward: 22.11: 100%|██████████| 32/32 [00:36<00:00,  1.13s/it]\n",
      "Updating: 100%|██████████| 13/13 [03:56<00:00, 18.18s/it]\n",
      "Eval | Avg. reward: 23.22: 100%|██████████| 250/250 [03:23<00:00,  1.23it/s]\n"
     ]
    },
    {
     "name": "stdout",
     "output_type": "stream",
     "text": [
      "Iter: 750, Avg/Max/Min. reward: 22.1/77.0/0.0, Avg FPS: 0.04\n",
      "Eval Avg/Max/Min. reward: 23.2/85.0/0.0\n"
     ]
    },
    {
     "name": "stderr",
     "output_type": "stream",
     "text": [
      "Collect | Avg. reward: 21.85: 100%|██████████| 32/32 [00:35<00:00,  1.12s/it]\n",
      "Updating: 100%|██████████| 13/13 [03:55<00:00, 18.09s/it]\n",
      "Collect | Avg. reward: 22.20: 100%|██████████| 32/32 [00:35<00:00,  1.11s/it]\n",
      "Updating: 100%|██████████| 13/13 [03:53<00:00, 18.00s/it]\n",
      "Collect | Avg. reward: 21.93: 100%|██████████| 32/32 [00:35<00:00,  1.11s/it]\n",
      "Updating: 100%|██████████| 13/13 [03:53<00:00, 17.99s/it]\n",
      "Collect | Avg. reward: 21.86: 100%|██████████| 32/32 [00:35<00:00,  1.11s/it]\n",
      "Updating: 100%|██████████| 13/13 [03:52<00:00, 17.91s/it]\n",
      "Collect | Avg. reward: 22.11: 100%|██████████| 32/32 [00:31<00:00,  1.01it/s]\n",
      "Updating: 100%|██████████| 13/13 [03:50<00:00, 17.74s/it]\n",
      "Collect | Avg. reward: 22.12: 100%|██████████| 32/32 [00:35<00:00,  1.12s/it]\n",
      "Updating: 100%|██████████| 13/13 [03:53<00:00, 17.96s/it]\n",
      "Collect | Avg. reward: 22.11: 100%|██████████| 32/32 [00:35<00:00,  1.12s/it]\n",
      "Updating: 100%|██████████| 13/13 [03:53<00:00, 17.99s/it]\n",
      "Collect | Avg. reward: 22.56: 100%|██████████| 32/32 [00:35<00:00,  1.12s/it]\n",
      "Updating: 100%|██████████| 13/13 [03:53<00:00, 17.98s/it]\n",
      "Collect | Avg. reward: 22.70: 100%|██████████| 32/32 [00:35<00:00,  1.10s/it]\n",
      "Updating: 100%|██████████| 13/13 [03:50<00:00, 17.75s/it]\n",
      "Collect | Avg. reward: 22.21: 100%|██████████| 32/32 [00:35<00:00,  1.11s/it]\n",
      "Updating: 100%|██████████| 13/13 [03:52<00:00, 17.86s/it]\n",
      "Eval | Avg. reward: 21.96: 100%|██████████| 250/250 [03:11<00:00,  1.31it/s]\n"
     ]
    },
    {
     "name": "stdout",
     "output_type": "stream",
     "text": [
      "Iter: 760, Avg/Max/Min. reward: 22.2/106.0/0.0, Avg FPS: 0.04\n",
      "Eval Avg/Max/Min. reward: 22.0/133.0/8.0\n"
     ]
    },
    {
     "name": "stderr",
     "output_type": "stream",
     "text": [
      "Collect | Avg. reward: 21.77: 100%|██████████| 32/32 [00:35<00:00,  1.12s/it]\n",
      "Updating: 100%|██████████| 13/13 [03:54<00:00, 18.00s/it]\n",
      "Collect | Avg. reward: 22.05: 100%|██████████| 32/32 [00:35<00:00,  1.11s/it]\n",
      "Updating: 100%|██████████| 13/13 [03:52<00:00, 17.92s/it]\n",
      "Collect | Avg. reward: 22.13: 100%|██████████| 32/32 [00:35<00:00,  1.12s/it]\n",
      "Updating: 100%|██████████| 13/13 [03:54<00:00, 18.05s/it]\n",
      "Collect | Avg. reward: 21.75: 100%|██████████| 32/32 [00:35<00:00,  1.11s/it]\n",
      "Updating: 100%|██████████| 13/13 [03:54<00:00, 18.07s/it]\n",
      "Collect | Avg. reward: 21.85: 100%|██████████| 32/32 [00:35<00:00,  1.12s/it]\n",
      "Updating: 100%|██████████| 13/13 [03:54<00:00, 18.04s/it]\n",
      "Collect | Avg. reward: 22.11: 100%|██████████| 32/32 [00:35<00:00,  1.12s/it]\n",
      "Updating: 100%|██████████| 13/13 [03:54<00:00, 18.01s/it]\n",
      "Collect | Avg. reward: 21.98: 100%|██████████| 32/32 [00:35<00:00,  1.12s/it]\n",
      "Updating: 100%|██████████| 13/13 [03:55<00:00, 18.11s/it]\n",
      "Collect | Avg. reward: 22.10: 100%|██████████| 32/32 [00:35<00:00,  1.12s/it]\n",
      "Updating: 100%|██████████| 13/13 [03:54<00:00, 18.01s/it]\n",
      "Collect | Avg. reward: 22.82: 100%|██████████| 32/32 [00:35<00:00,  1.11s/it]\n",
      "Updating: 100%|██████████| 13/13 [03:52<00:00, 17.92s/it]\n",
      "Collect | Avg. reward: 23.18: 100%|██████████| 32/32 [00:35<00:00,  1.10s/it]\n",
      "Updating: 100%|██████████| 13/13 [03:50<00:00, 17.76s/it]\n",
      "Eval | Avg. reward: 23.19: 100%|██████████| 250/250 [03:19<00:00,  1.25it/s]\n",
      "  0%|          | 0/32 [00:00<?, ?it/s]"
     ]
    },
    {
     "name": "stdout",
     "output_type": "stream",
     "text": [
      "Iter: 770, Avg/Max/Min. reward: 23.2/85.0/0.0, Avg FPS: 0.03\n",
      "Eval Avg/Max/Min. reward: 23.2/111.0/8.0\n"
     ]
    },
    {
     "name": "stderr",
     "output_type": "stream",
     "text": [
      "Collect | Avg. reward: 23.16: 100%|██████████| 32/32 [00:35<00:00,  1.12s/it]\n",
      "Updating: 100%|██████████| 13/13 [03:54<00:00, 18.08s/it]\n",
      "Collect | Avg. reward: 22.84: 100%|██████████| 32/32 [00:35<00:00,  1.11s/it]\n",
      "Updating: 100%|██████████| 13/13 [03:52<00:00, 17.89s/it]\n",
      "Collect | Avg. reward: 22.48: 100%|██████████| 32/32 [00:35<00:00,  1.11s/it]\n",
      "Updating: 100%|██████████| 13/13 [03:51<00:00, 17.84s/it]\n",
      "Collect | Avg. reward: 22.28: 100%|██████████| 32/32 [00:35<00:00,  1.11s/it]\n",
      "Updating: 100%|██████████| 13/13 [03:52<00:00, 17.86s/it]\n",
      "Collect | Avg. reward: 22.84: 100%|██████████| 32/32 [00:35<00:00,  1.11s/it]\n",
      "Updating: 100%|██████████| 13/13 [03:52<00:00, 17.90s/it]\n",
      "Collect | Avg. reward: 22.59: 100%|██████████| 32/32 [00:35<00:00,  1.11s/it]\n",
      "Updating: 100%|██████████| 13/13 [03:54<00:00, 18.01s/it]\n",
      "Collect | Avg. reward: 22.16: 100%|██████████| 32/32 [00:35<00:00,  1.10s/it]\n",
      "Updating: 100%|██████████| 13/13 [03:51<00:00, 17.80s/it]\n",
      "Collect | Avg. reward: 22.26: 100%|██████████| 32/32 [00:35<00:00,  1.12s/it]\n",
      "Updating: 100%|██████████| 13/13 [03:54<00:00, 18.05s/it]\n",
      "Collect | Avg. reward: 22.40: 100%|██████████| 32/32 [00:35<00:00,  1.11s/it]\n",
      "Updating: 100%|██████████| 13/13 [03:53<00:00, 17.94s/it]\n",
      "Collect | Avg. reward: 21.99: 100%|██████████| 32/32 [00:35<00:00,  1.11s/it]\n",
      "Updating: 100%|██████████| 13/13 [03:53<00:00, 17.97s/it]\n",
      "Eval | Avg. reward: 23.07: 100%|██████████| 250/250 [03:20<00:00,  1.25it/s]\n"
     ]
    },
    {
     "name": "stdout",
     "output_type": "stream",
     "text": [
      "Iter: 780, Avg/Max/Min. reward: 22.0/90.0/3.0, Avg FPS: 0.03\n",
      "Eval Avg/Max/Min. reward: 23.1/77.0/0.0\n"
     ]
    },
    {
     "name": "stderr",
     "output_type": "stream",
     "text": [
      "Collect | Avg. reward: 21.90: 100%|██████████| 32/32 [00:35<00:00,  1.11s/it]\n",
      "Updating: 100%|██████████| 13/13 [03:53<00:00, 17.99s/it]\n",
      "Collect | Avg. reward: 21.63: 100%|██████████| 32/32 [00:35<00:00,  1.12s/it]\n",
      "Updating: 100%|██████████| 13/13 [03:54<00:00, 18.06s/it]\n",
      "Collect | Avg. reward: 22.00: 100%|██████████| 32/32 [00:35<00:00,  1.10s/it]\n",
      "Updating: 100%|██████████| 13/13 [03:52<00:00, 17.87s/it]\n",
      "Collect | Avg. reward: 21.92: 100%|██████████| 32/32 [00:35<00:00,  1.12s/it]\n",
      "Updating: 100%|██████████| 13/13 [03:54<00:00, 18.01s/it]\n",
      "Collect | Avg. reward: 22.20: 100%|██████████| 32/32 [00:35<00:00,  1.10s/it]\n",
      "Updating: 100%|██████████| 13/13 [03:52<00:00, 17.85s/it]\n",
      "Collect | Avg. reward: 22.52: 100%|██████████| 32/32 [00:35<00:00,  1.11s/it]\n",
      "Updating: 100%|██████████| 13/13 [03:53<00:00, 17.93s/it]\n",
      "Collect | Avg. reward: 22.22: 100%|██████████| 32/32 [00:35<00:00,  1.11s/it]\n",
      "Updating: 100%|██████████| 13/13 [03:53<00:00, 17.97s/it]\n",
      "Collect | Avg. reward: 22.85: 100%|██████████| 32/32 [00:35<00:00,  1.11s/it]\n",
      "Updating: 100%|██████████| 13/13 [03:53<00:00, 17.99s/it]\n",
      "Collect | Avg. reward: 22.07: 100%|██████████| 32/32 [00:35<00:00,  1.11s/it]\n",
      "Updating: 100%|██████████| 13/13 [03:53<00:00, 17.96s/it]\n",
      "Collect | Avg. reward: 21.92: 100%|██████████| 32/32 [00:35<00:00,  1.11s/it]\n",
      "Updating: 100%|██████████| 13/13 [03:53<00:00, 17.93s/it]\n",
      "Eval | Avg. reward: 21.85: 100%|██████████| 250/250 [03:10<00:00,  1.31it/s]\n",
      "  0%|          | 0/32 [00:00<?, ?it/s]"
     ]
    },
    {
     "name": "stdout",
     "output_type": "stream",
     "text": [
      "Iter: 790, Avg/Max/Min. reward: 21.9/106.0/0.0, Avg FPS: 0.03\n",
      "Eval Avg/Max/Min. reward: 21.9/80.0/0.0\n"
     ]
    },
    {
     "name": "stderr",
     "output_type": "stream",
     "text": [
      "Collect | Avg. reward: 21.64: 100%|██████████| 32/32 [00:35<00:00,  1.12s/it]\n",
      "Updating: 100%|██████████| 13/13 [03:55<00:00, 18.09s/it]\n",
      "Collect | Avg. reward: 22.10: 100%|██████████| 32/32 [00:35<00:00,  1.12s/it]\n",
      "Updating: 100%|██████████| 13/13 [03:52<00:00, 17.91s/it]\n",
      "Collect | Avg. reward: 20.96: 100%|██████████| 32/32 [00:35<00:00,  1.11s/it]\n",
      "Updating: 100%|██████████| 13/13 [03:51<00:00, 17.83s/it]\n",
      "Collect | Avg. reward: 20.64: 100%|██████████| 32/32 [00:35<00:00,  1.10s/it]\n",
      "Updating: 100%|██████████| 13/13 [03:50<00:00, 17.73s/it]\n",
      "Collect | Avg. reward: 20.84: 100%|██████████| 32/32 [00:35<00:00,  1.10s/it]\n",
      "Updating: 100%|██████████| 13/13 [03:50<00:00, 17.75s/it]\n",
      "Collect | Avg. reward: 20.74: 100%|██████████| 32/32 [00:35<00:00,  1.10s/it]\n",
      "Updating: 100%|██████████| 13/13 [03:51<00:00, 17.78s/it]\n",
      "Collect | Avg. reward: 19.95: 100%|██████████| 32/32 [00:35<00:00,  1.10s/it]\n",
      "Updating: 100%|██████████| 13/13 [03:51<00:00, 17.80s/it]\n",
      "Collect | Avg. reward: 19.63: 100%|██████████| 32/32 [00:35<00:00,  1.11s/it]\n",
      "Updating: 100%|██████████| 13/13 [03:52<00:00, 17.90s/it]\n",
      "Collect | Avg. reward: 19.93: 100%|██████████| 32/32 [00:35<00:00,  1.10s/it]\n",
      "Updating: 100%|██████████| 13/13 [03:50<00:00, 17.73s/it]\n",
      "Collect | Avg. reward: 20.29: 100%|██████████| 32/32 [00:35<00:00,  1.10s/it]\n",
      "Updating: 100%|██████████| 13/13 [03:51<00:00, 17.82s/it]\n",
      "Eval | Avg. reward: 21.20: 100%|██████████| 250/250 [03:03<00:00,  1.36it/s]\n",
      "  0%|          | 0/32 [00:00<?, ?it/s]"
     ]
    },
    {
     "name": "stdout",
     "output_type": "stream",
     "text": [
      "Iter: 800, Avg/Max/Min. reward: 20.3/72.0/0.0, Avg FPS: 0.04\n",
      "Eval Avg/Max/Min. reward: 21.2/70.0/8.0\n"
     ]
    },
    {
     "name": "stderr",
     "output_type": "stream",
     "text": [
      "Collect | Avg. reward: 20.72: 100%|██████████| 32/32 [00:35<00:00,  1.10s/it]\n",
      "Updating: 100%|██████████| 13/13 [03:52<00:00, 17.88s/it]\n",
      "Collect | Avg. reward: 20.77: 100%|██████████| 32/32 [00:35<00:00,  1.10s/it]\n",
      "Updating: 100%|██████████| 13/13 [03:50<00:00, 17.71s/it]\n",
      "Collect | Avg. reward: 21.27: 100%|██████████| 32/32 [00:35<00:00,  1.11s/it]\n",
      "Updating: 100%|██████████| 13/13 [03:53<00:00, 17.94s/it]\n",
      "Collect | Avg. reward: 21.94: 100%|██████████| 32/32 [00:35<00:00,  1.10s/it]\n",
      "Updating: 100%|██████████| 13/13 [03:52<00:00, 17.90s/it]\n",
      "Collect | Avg. reward: 22.73: 100%|██████████| 32/32 [00:34<00:00,  1.09s/it]\n",
      "Updating: 100%|██████████| 13/13 [03:50<00:00, 17.71s/it]\n",
      "Collect | Avg. reward: 22.35: 100%|██████████| 32/32 [00:35<00:00,  1.11s/it]\n",
      "Updating: 100%|██████████| 13/13 [03:51<00:00, 17.79s/it]\n",
      "Collect | Avg. reward: 21.73: 100%|██████████| 32/32 [00:35<00:00,  1.10s/it]\n",
      "Updating: 100%|██████████| 13/13 [03:49<00:00, 17.68s/it]\n",
      "Collect | Avg. reward: 21.65: 100%|██████████| 32/32 [00:35<00:00,  1.10s/it]\n",
      "Updating: 100%|██████████| 13/13 [03:51<00:00, 17.81s/it]\n",
      "Collect | Avg. reward: 21.70: 100%|██████████| 32/32 [00:35<00:00,  1.11s/it]\n",
      "Updating: 100%|██████████| 13/13 [03:52<00:00, 17.86s/it]\n",
      "Collect | Avg. reward: 21.10: 100%|██████████| 32/32 [00:35<00:00,  1.11s/it]\n",
      "Updating: 100%|██████████| 13/13 [03:53<00:00, 17.99s/it]\n",
      "Eval | Avg. reward: 23.80: 100%|██████████| 250/250 [03:27<00:00,  1.21it/s]\n",
      "  0%|          | 0/32 [00:00<?, ?it/s]"
     ]
    },
    {
     "name": "stdout",
     "output_type": "stream",
     "text": [
      "Iter: 810, Avg/Max/Min. reward: 21.1/87.0/0.0, Avg FPS: 0.04\n",
      "Eval Avg/Max/Min. reward: 23.8/138.0/0.0\n"
     ]
    },
    {
     "name": "stderr",
     "output_type": "stream",
     "text": [
      "Collect | Avg. reward: 22.12: 100%|██████████| 32/32 [00:35<00:00,  1.11s/it]\n",
      "Updating: 100%|██████████| 13/13 [03:53<00:00, 17.94s/it]\n",
      "Collect | Avg. reward: 21.97: 100%|██████████| 32/32 [00:35<00:00,  1.12s/it]\n",
      "Updating: 100%|██████████| 13/13 [03:56<00:00, 18.16s/it]\n",
      "Collect | Avg. reward: 22.24: 100%|██████████| 32/32 [00:35<00:00,  1.11s/it]\n",
      "Updating: 100%|██████████| 13/13 [03:53<00:00, 17.93s/it]\n",
      "Collect | Avg. reward: 22.12: 100%|██████████| 32/32 [00:35<00:00,  1.11s/it]\n",
      "Updating: 100%|██████████| 13/13 [03:52<00:00, 17.92s/it]\n",
      "Collect | Avg. reward: 22.75: 100%|██████████| 32/32 [00:35<00:00,  1.10s/it]\n",
      "Updating: 100%|██████████| 13/13 [03:51<00:00, 17.81s/it]\n",
      "Collect | Avg. reward: 22.54: 100%|██████████| 32/32 [00:35<00:00,  1.12s/it]\n",
      "Updating: 100%|██████████| 13/13 [03:54<00:00, 18.05s/it]\n",
      "Collect | Avg. reward: 22.55: 100%|██████████| 32/32 [00:35<00:00,  1.11s/it]\n",
      "Updating: 100%|██████████| 13/13 [03:54<00:00, 18.00s/it]\n",
      "Collect | Avg. reward: 22.57: 100%|██████████| 32/32 [00:35<00:00,  1.12s/it]\n",
      "Updating: 100%|██████████| 13/13 [03:53<00:00, 17.95s/it]\n",
      "Collect | Avg. reward: 21.91: 100%|██████████| 32/32 [00:35<00:00,  1.10s/it]\n",
      "Updating: 100%|██████████| 13/13 [03:52<00:00, 17.88s/it]\n",
      "Collect | Avg. reward: 21.69: 100%|██████████| 32/32 [00:35<00:00,  1.12s/it]\n",
      "Updating: 100%|██████████| 13/13 [03:55<00:00, 18.09s/it]\n",
      "Eval | Avg. reward: 22.21: 100%|██████████| 250/250 [03:13<00:00,  1.29it/s]\n",
      "  0%|          | 0/32 [00:00<?, ?it/s]"
     ]
    },
    {
     "name": "stdout",
     "output_type": "stream",
     "text": [
      "Iter: 820, Avg/Max/Min. reward: 21.7/73.0/0.0, Avg FPS: 0.03\n",
      "Eval Avg/Max/Min. reward: 22.2/66.0/0.0\n"
     ]
    },
    {
     "name": "stderr",
     "output_type": "stream",
     "text": [
      "Collect | Avg. reward: 21.97: 100%|██████████| 32/32 [00:35<00:00,  1.11s/it]\n",
      "Updating: 100%|██████████| 13/13 [03:52<00:00, 17.92s/it]\n",
      "Collect | Avg. reward: 22.05: 100%|██████████| 32/32 [00:35<00:00,  1.11s/it]\n",
      "Updating: 100%|██████████| 13/13 [03:53<00:00, 17.98s/it]\n",
      "Collect | Avg. reward: 21.85: 100%|██████████| 32/32 [00:35<00:00,  1.12s/it]\n",
      "Updating: 100%|██████████| 13/13 [03:54<00:00, 18.07s/it]\n",
      "Collect | Avg. reward: 22.36: 100%|██████████| 32/32 [00:35<00:00,  1.12s/it]\n",
      "Updating: 100%|██████████| 13/13 [03:54<00:00, 18.06s/it]\n",
      "Collect | Avg. reward: 22.62: 100%|██████████| 32/32 [00:35<00:00,  1.11s/it]\n",
      "Updating: 100%|██████████| 13/13 [03:53<00:00, 17.97s/it]\n",
      "Collect | Avg. reward: 22.87: 100%|██████████| 32/32 [00:35<00:00,  1.10s/it]\n",
      "Updating: 100%|██████████| 13/13 [03:52<00:00, 17.86s/it]\n",
      "Collect | Avg. reward: 22.43: 100%|██████████| 32/32 [00:35<00:00,  1.11s/it]\n",
      "Updating: 100%|██████████| 13/13 [03:53<00:00, 17.97s/it]\n",
      "Collect | Avg. reward: 22.98: 100%|██████████| 32/32 [00:36<00:00,  1.13s/it]\n",
      "Updating: 100%|██████████| 13/13 [03:56<00:00, 18.20s/it]\n",
      "Collect | Avg. reward: 23.01: 100%|██████████| 32/32 [00:35<00:00,  1.11s/it]\n",
      "Updating: 100%|██████████| 13/13 [03:53<00:00, 17.95s/it]\n",
      "Collect | Avg. reward: 22.88: 100%|██████████| 32/32 [00:35<00:00,  1.12s/it]\n",
      "Updating: 100%|██████████| 13/13 [03:54<00:00, 18.05s/it]\n",
      "Eval | Avg. reward: 22.98: 100%|██████████| 250/250 [03:21<00:00,  1.24it/s]\n",
      "  0%|          | 0/32 [00:00<?, ?it/s]"
     ]
    },
    {
     "name": "stdout",
     "output_type": "stream",
     "text": [
      "Iter: 830, Avg/Max/Min. reward: 22.9/131.0/0.0, Avg FPS: 0.04\n",
      "Eval Avg/Max/Min. reward: 23.0/86.0/0.0\n"
     ]
    },
    {
     "name": "stderr",
     "output_type": "stream",
     "text": [
      "Collect | Avg. reward: 22.24: 100%|██████████| 32/32 [00:35<00:00,  1.11s/it]\n",
      "Updating: 100%|██████████| 13/13 [03:55<00:00, 18.11s/it]\n",
      "Collect | Avg. reward: 21.98: 100%|██████████| 32/32 [00:35<00:00,  1.11s/it]\n",
      "Updating: 100%|██████████| 13/13 [03:53<00:00, 17.99s/it]\n",
      "Collect | Avg. reward: 22.48: 100%|██████████| 32/32 [00:35<00:00,  1.11s/it]\n",
      "Updating: 100%|██████████| 13/13 [03:53<00:00, 17.92s/it]\n",
      "Collect | Avg. reward: 22.13: 100%|██████████| 32/32 [00:35<00:00,  1.12s/it]\n",
      "Updating: 100%|██████████| 13/13 [03:54<00:00, 18.06s/it]\n",
      "Collect | Avg. reward: 22.42: 100%|██████████| 32/32 [00:35<00:00,  1.11s/it]\n",
      "Updating: 100%|██████████| 13/13 [03:54<00:00, 18.07s/it]\n",
      "Collect | Avg. reward: 22.90: 100%|██████████| 32/32 [00:35<00:00,  1.11s/it]\n",
      "Updating: 100%|██████████| 13/13 [03:53<00:00, 17.98s/it]\n",
      "Collect | Avg. reward: 23.15: 100%|██████████| 32/32 [00:35<00:00,  1.10s/it]\n",
      "Updating: 100%|██████████| 13/13 [03:51<00:00, 17.82s/it]\n",
      "Collect | Avg. reward: 23.84: 100%|██████████| 32/32 [00:35<00:00,  1.11s/it]\n",
      "Updating: 100%|██████████| 13/13 [03:54<00:00, 18.05s/it]\n",
      "Collect | Avg. reward: 24.84: 100%|██████████| 32/32 [00:35<00:00,  1.11s/it]\n",
      "Updating: 100%|██████████| 13/13 [03:54<00:00, 18.03s/it]\n",
      "Collect | Avg. reward: 24.81: 100%|██████████| 32/32 [00:34<00:00,  1.08s/it]\n",
      "Eval | Avg. reward: 24.72: 100%|██████████| 250/250 [03:34<00:00,  1.17it/s]\n"
     ]
    },
    {
     "name": "stdout",
     "output_type": "stream",
     "text": [
      "Iter: 840, Avg/Max/Min. reward: 24.8/93.0/0.0, Avg FPS: 0.04\n",
      "Eval Avg/Max/Min. reward: 24.7/98.0/9.0\n"
     ]
    },
    {
     "name": "stderr",
     "output_type": "stream",
     "text": [
      "Collect | Avg. reward: 24.81: 100%|██████████| 32/32 [00:35<00:00,  1.11s/it]\n",
      "Updating: 100%|██████████| 13/13 [03:52<00:00, 17.86s/it]\n",
      "Collect | Avg. reward: 24.20: 100%|██████████| 32/32 [00:35<00:00,  1.11s/it]\n",
      "Updating: 100%|██████████| 13/13 [03:53<00:00, 17.97s/it]\n",
      "Collect | Avg. reward: 24.50: 100%|██████████| 32/32 [00:35<00:00,  1.11s/it]\n",
      "Updating: 100%|██████████| 13/13 [03:53<00:00, 17.95s/it]\n",
      "Collect | Avg. reward: 24.72: 100%|██████████| 32/32 [00:35<00:00,  1.11s/it]\n",
      "Updating: 100%|██████████| 13/13 [03:54<00:00, 18.00s/it]\n",
      "Collect | Avg. reward: 24.97: 100%|██████████| 32/32 [00:35<00:00,  1.12s/it]\n",
      "Updating: 100%|██████████| 13/13 [03:53<00:00, 17.99s/it]\n",
      "Collect | Avg. reward: 24.82: 100%|██████████| 32/32 [00:35<00:00,  1.10s/it]\n",
      "Updating: 100%|██████████| 13/13 [03:52<00:00, 17.89s/it]\n",
      "Collect | Avg. reward: 24.11: 100%|██████████| 32/32 [00:35<00:00,  1.11s/it]\n",
      "Updating: 100%|██████████| 13/13 [03:53<00:00, 17.95s/it]\n",
      "Collect | Avg. reward: 24.36: 100%|██████████| 32/32 [00:35<00:00,  1.11s/it]\n",
      "Updating: 100%|██████████| 13/13 [03:51<00:00, 17.81s/it]\n",
      "Collect | Avg. reward: 25.54: 100%|██████████| 32/32 [00:35<00:00,  1.11s/it]\n",
      "Updating: 100%|██████████| 13/13 [03:54<00:00, 18.00s/it]\n",
      "Collect | Avg. reward: 25.53: 100%|██████████| 32/32 [00:35<00:00,  1.11s/it]\n",
      "Updating: 100%|██████████| 13/13 [03:53<00:00, 17.98s/it]\n",
      "Eval | Avg. reward: 22.98: 100%|██████████| 250/250 [03:17<00:00,  1.26it/s]\n"
     ]
    },
    {
     "name": "stdout",
     "output_type": "stream",
     "text": [
      "Iter: 850, Avg/Max/Min. reward: 25.5/116.0/0.0, Avg FPS: 0.02\n",
      "Eval Avg/Max/Min. reward: 23.0/76.0/0.0\n"
     ]
    },
    {
     "name": "stderr",
     "output_type": "stream",
     "text": [
      "Collect | Avg. reward: 25.20: 100%|██████████| 32/32 [00:35<00:00,  1.11s/it]\n",
      "Updating: 100%|██████████| 13/13 [03:52<00:00, 17.86s/it]\n",
      "Collect | Avg. reward: 24.94: 100%|██████████| 32/32 [00:35<00:00,  1.11s/it]\n",
      "Updating: 100%|██████████| 13/13 [03:53<00:00, 17.96s/it]\n",
      "Collect | Avg. reward: 25.01: 100%|██████████| 32/32 [00:35<00:00,  1.11s/it]\n",
      "Updating: 100%|██████████| 13/13 [03:51<00:00, 17.82s/it]\n",
      "Collect | Avg. reward: 24.90: 100%|██████████| 32/32 [00:35<00:00,  1.11s/it]\n",
      "Updating: 100%|██████████| 13/13 [03:52<00:00, 17.85s/it]\n",
      "Collect | Avg. reward: 24.44: 100%|██████████| 32/32 [00:35<00:00,  1.10s/it]\n",
      "Updating: 100%|██████████| 13/13 [03:52<00:00, 17.91s/it]\n",
      "Collect | Avg. reward: 24.68: 100%|██████████| 32/32 [00:35<00:00,  1.11s/it]\n",
      "Updating: 100%|██████████| 13/13 [03:53<00:00, 17.95s/it]\n",
      "Collect | Avg. reward: 25.00: 100%|██████████| 32/32 [00:35<00:00,  1.10s/it]\n",
      "Updating: 100%|██████████| 13/13 [03:51<00:00, 17.77s/it]\n",
      "Collect | Avg. reward: 25.11: 100%|██████████| 32/32 [00:35<00:00,  1.11s/it]\n",
      "Updating: 100%|██████████| 13/13 [03:52<00:00, 17.89s/it]\n",
      "Collect | Avg. reward: 24.97: 100%|██████████| 32/32 [00:35<00:00,  1.11s/it]\n",
      "Updating: 100%|██████████| 13/13 [03:52<00:00, 17.88s/it]\n",
      "Collect | Avg. reward: 24.51: 100%|██████████| 32/32 [00:35<00:00,  1.11s/it]\n",
      "Updating: 100%|██████████| 13/13 [03:53<00:00, 17.96s/it]\n",
      "Eval | Avg. reward: 28.31:  83%|████████▎ | 208/250 [03:23<00:46,  1.11s/it]IOPub message rate exceeded.\n",
      "The notebook server will temporarily stop sending output\n",
      "to the client in order to avoid crashing it.\n",
      "To change this limit, set the config variable\n",
      "`--NotebookApp.iopub_msg_rate_limit`.\n",
      "\n",
      "Current values:\n",
      "NotebookApp.iopub_msg_rate_limit=1000.0 (msgs/sec)\n",
      "NotebookApp.rate_limit_window=3.0 (secs)\n",
      "\n",
      "Eval | Avg. reward: 24.01: 100%|██████████| 250/250 [03:28<00:00,  1.20it/s]\n"
     ]
    },
    {
     "name": "stdout",
     "output_type": "stream",
     "text": [
      "Iter: 880, Avg/Max/Min. reward: 28.2/94.0/2.0, Avg FPS: 0.03\n",
      "Eval Avg/Max/Min. reward: 24.0/87.0/0.0\n"
     ]
    },
    {
     "name": "stderr",
     "output_type": "stream",
     "text": [
      "Collect | Avg. reward: 28.15: 100%|██████████| 32/32 [00:35<00:00,  1.10s/it]\n",
      "Updating: 100%|██████████| 13/13 [03:52<00:00, 17.87s/it]\n",
      "Collect | Avg. reward: 27.28: 100%|██████████| 32/32 [00:35<00:00,  1.10s/it]\n",
      "Updating: 100%|██████████| 13/13 [03:52<00:00, 17.87s/it]\n",
      "Collect | Avg. reward: 26.35: 100%|██████████| 32/32 [00:35<00:00,  1.11s/it]\n",
      "Updating: 100%|██████████| 13/13 [03:51<00:00, 17.77s/it]\n",
      "Collect | Avg. reward: 25.68: 100%|██████████| 32/32 [00:35<00:00,  1.10s/it]\n",
      "Updating: 100%|██████████| 13/13 [03:52<00:00, 17.85s/it]\n",
      "Collect | Avg. reward: 26.17: 100%|██████████| 32/32 [00:35<00:00,  1.10s/it]\n",
      "Updating: 100%|██████████| 13/13 [03:51<00:00, 17.84s/it]\n",
      "Collect | Avg. reward: 26.78: 100%|██████████| 32/32 [00:35<00:00,  1.10s/it]\n",
      "Updating: 100%|██████████| 13/13 [03:51<00:00, 17.84s/it]\n",
      "Collect | Avg. reward: 27.19: 100%|██████████| 32/32 [00:35<00:00,  1.10s/it]\n",
      "Updating: 100%|██████████| 13/13 [03:53<00:00, 17.93s/it]\n",
      "Collect | Avg. reward: 28.19: 100%|██████████| 32/32 [00:35<00:00,  1.12s/it]\n",
      "Updating: 100%|██████████| 13/13 [03:54<00:00, 18.00s/it]\n",
      "Collect | Avg. reward: 27.82: 100%|██████████| 32/32 [00:35<00:00,  1.11s/it]\n",
      "Updating: 100%|██████████| 13/13 [03:52<00:00, 17.90s/it]\n",
      "Collect | Avg. reward: 27.66: 100%|██████████| 32/32 [00:35<00:00,  1.10s/it]\n",
      "Updating: 100%|██████████| 13/13 [03:52<00:00, 17.88s/it]\n",
      "Eval | Avg. reward: 31.13: 100%|██████████| 250/250 [04:28<00:00,  1.07s/it]\n",
      "  0%|          | 0/32 [00:00<?, ?it/s]"
     ]
    },
    {
     "name": "stdout",
     "output_type": "stream",
     "text": [
      "Iter: 890, Avg/Max/Min. reward: 27.7/126.0/4.0, Avg FPS: 0.04\n",
      "Eval Avg/Max/Min. reward: 31.1/110.0/0.0\n"
     ]
    },
    {
     "name": "stderr",
     "output_type": "stream",
     "text": [
      "Collect | Avg. reward: 28.62: 100%|██████████| 32/32 [00:35<00:00,  1.11s/it]\n",
      "Updating: 100%|██████████| 13/13 [03:53<00:00, 17.97s/it]\n",
      "Collect | Avg. reward: 30.09: 100%|██████████| 32/32 [00:35<00:00,  1.10s/it]\n",
      "Updating: 100%|██████████| 13/13 [03:52<00:00, 17.86s/it]\n",
      "Collect | Avg. reward: 30.71: 100%|██████████| 32/32 [00:35<00:00,  1.11s/it]\n",
      "Updating: 100%|██████████| 13/13 [03:53<00:00, 17.98s/it]\n",
      "Collect | Avg. reward: 31.18: 100%|██████████| 32/32 [00:35<00:00,  1.11s/it]\n",
      "Updating: 100%|██████████| 13/13 [03:53<00:00, 17.92s/it]\n",
      "Collect | Avg. reward: 31.64: 100%|██████████| 32/32 [00:35<00:00,  1.10s/it]\n",
      "Updating: 100%|██████████| 13/13 [03:50<00:00, 17.72s/it]\n",
      "Collect | Avg. reward: 31.85: 100%|██████████| 32/32 [00:35<00:00,  1.11s/it]\n",
      "Updating: 100%|██████████| 13/13 [03:53<00:00, 17.93s/it]\n",
      "Collect | Avg. reward: 32.02: 100%|██████████| 32/32 [00:35<00:00,  1.10s/it]\n",
      "Updating: 100%|██████████| 13/13 [03:53<00:00, 17.94s/it]\n",
      "Collect | Avg. reward: 32.03: 100%|██████████| 32/32 [00:35<00:00,  1.11s/it]\n",
      "Updating: 100%|██████████| 13/13 [03:52<00:00, 17.89s/it]\n",
      "Collect | Avg. reward: 31.66: 100%|██████████| 32/32 [00:35<00:00,  1.11s/it]\n",
      "Updating: 100%|██████████| 13/13 [03:52<00:00, 17.92s/it]\n",
      "Collect | Avg. reward: 31.83: 100%|██████████| 32/32 [00:35<00:00,  1.12s/it]\n",
      "Updating: 100%|██████████| 13/13 [03:55<00:00, 18.09s/it]\n",
      "Eval | Avg. reward: 30.63:  96%|█████████▌| 239/250 [04:13<00:14,  1.30s/it]IOPub message rate exceeded.\n",
      "The notebook server will temporarily stop sending output\n",
      "to the client in order to avoid crashing it.\n",
      "To change this limit, set the config variable\n",
      "`--NotebookApp.iopub_msg_rate_limit`.\n",
      "\n",
      "Current values:\n",
      "NotebookApp.iopub_msg_rate_limit=1000.0 (msgs/sec)\n",
      "NotebookApp.rate_limit_window=3.0 (secs)\n",
      "\n",
      "Updating: 100%|██████████| 13/13 [03:48<00:00, 17.57s/it]\n",
      "Collect | Avg. reward: 30.25: 100%|██████████| 32/32 [00:35<00:00,  1.10s/it]\n",
      "Updating: 100%|██████████| 13/13 [03:52<00:00, 17.88s/it]\n",
      "Collect | Avg. reward: 30.90: 100%|██████████| 32/32 [00:35<00:00,  1.12s/it]\n",
      "Updating: 100%|██████████| 13/13 [03:55<00:00, 18.10s/it]\n",
      "Collect | Avg. reward: 30.37: 100%|██████████| 32/32 [00:35<00:00,  1.11s/it]\n",
      "Collect | Avg. reward: 29.56: 100%|██████████| 32/32 [00:35<00:00,  1.12s/it]\n",
      "Updating: 100%|██████████| 13/13 [03:54<00:00, 18.06s/it]\n",
      "Collect | Avg. reward: 29.07: 100%|██████████| 32/32 [00:35<00:00,  1.11s/it]\n",
      "Updating: 100%|██████████| 13/13 [03:55<00:00, 18.09s/it]\n",
      "Collect | Avg. reward: 28.42: 100%|██████████| 32/32 [00:35<00:00,  1.12s/it]\n",
      "Updating: 100%|██████████| 13/13 [03:55<00:00, 18.08s/it]\n",
      "Collect | Avg. reward: 27.45: 100%|██████████| 32/32 [00:35<00:00,  1.12s/it]\n",
      "Updating: 100%|██████████| 13/13 [03:54<00:00, 18.03s/it]\n",
      "Collect | Avg. reward: 27.68: 100%|██████████| 32/32 [00:35<00:00,  1.12s/it]\n",
      "Updating: 100%|██████████| 13/13 [03:54<00:00, 18.00s/it]\n",
      "Collect | Avg. reward: 27.87: 100%|██████████| 32/32 [00:35<00:00,  1.11s/it]\n",
      "Updating: 100%|██████████| 13/13 [03:55<00:00, 18.09s/it]\n",
      "Eval | Avg. reward: 31.00: 100%|██████████| 250/250 [04:30<00:00,  1.08s/it]\n",
      "  0%|          | 0/32 [00:00<?, ?it/s]"
     ]
    },
    {
     "name": "stdout",
     "output_type": "stream",
     "text": [
      "Iter: 910, Avg/Max/Min. reward: 27.9/98.0/0.0, Avg FPS: 0.02\n",
      "Eval Avg/Max/Min. reward: 31.0/132.0/0.0\n"
     ]
    },
    {
     "name": "stderr",
     "output_type": "stream",
     "text": [
      "Collect | Avg. reward: 28.10: 100%|██████████| 32/32 [00:35<00:00,  1.11s/it]\n",
      "Updating: 100%|██████████| 13/13 [03:52<00:00, 17.88s/it]\n",
      "Collect | Avg. reward: 28.16: 100%|██████████| 32/32 [00:35<00:00,  1.11s/it]\n",
      "Updating: 100%|██████████| 13/13 [03:54<00:00, 18.04s/it]\n",
      "Collect | Avg. reward: 28.20: 100%|██████████| 32/32 [00:35<00:00,  1.12s/it]\n",
      "Updating: 100%|██████████| 13/13 [03:57<00:00, 18.25s/it]\n",
      "Collect | Avg. reward: 28.62: 100%|██████████| 32/32 [00:35<00:00,  1.11s/it]\n",
      "Updating: 100%|██████████| 13/13 [03:54<00:00, 18.02s/it]\n",
      "Collect | Avg. reward: 28.85: 100%|██████████| 32/32 [00:35<00:00,  1.12s/it]\n",
      "Updating: 100%|██████████| 13/13 [03:54<00:00, 18.04s/it]\n",
      "Collect | Avg. reward: 29.72: 100%|██████████| 32/32 [00:35<00:00,  1.12s/it]\n",
      "Updating: 100%|██████████| 13/13 [03:56<00:00, 18.19s/it]\n",
      "Collect | Avg. reward: 30.07: 100%|██████████| 32/32 [00:35<00:00,  1.12s/it]\n",
      "Updating: 100%|██████████| 13/13 [03:54<00:00, 18.01s/it]\n",
      "Collect | Avg. reward: 31.08: 100%|██████████| 32/32 [00:35<00:00,  1.11s/it]\n",
      "Updating: 100%|██████████| 13/13 [03:53<00:00, 17.98s/it]\n",
      "Collect | Avg. reward: 31.56: 100%|██████████| 32/32 [00:35<00:00,  1.12s/it]\n",
      "Updating: 100%|██████████| 13/13 [03:56<00:00, 18.18s/it]\n",
      "Collect | Avg. reward: 32.05: 100%|██████████| 32/32 [00:35<00:00,  1.12s/it]\n",
      "Updating: 100%|██████████| 13/13 [03:55<00:00, 18.08s/it]\n",
      "Eval | Avg. reward: 35.17: 100%|██████████| 250/250 [05:07<00:00,  1.23s/it]\n",
      "  0%|          | 0/32 [00:00<?, ?it/s]"
     ]
    },
    {
     "name": "stdout",
     "output_type": "stream",
     "text": [
      "Iter: 920, Avg/Max/Min. reward: 32.1/112.0/0.0, Avg FPS: 0.03\n",
      "Eval Avg/Max/Min. reward: 35.2/108.0/0.0\n"
     ]
    },
    {
     "name": "stderr",
     "output_type": "stream",
     "text": [
      "Collect | Avg. reward: 32.77: 100%|██████████| 32/32 [00:35<00:00,  1.12s/it]\n",
      "Updating: 100%|██████████| 13/13 [03:56<00:00, 18.19s/it]\n",
      "Collect | Avg. reward: 32.42: 100%|██████████| 32/32 [00:35<00:00,  1.12s/it]\n",
      "Updating: 100%|██████████| 13/13 [03:55<00:00, 18.10s/it]\n",
      "Collect | Avg. reward: 32.28: 100%|██████████| 32/32 [00:35<00:00,  1.11s/it]\n",
      "Updating: 100%|██████████| 13/13 [03:54<00:00, 18.07s/it]\n",
      "Collect | Avg. reward: 32.83: 100%|██████████| 32/32 [00:35<00:00,  1.11s/it]\n",
      "Updating: 100%|██████████| 13/13 [03:54<00:00, 18.02s/it]\n",
      "Collect | Avg. reward: 33.11: 100%|██████████| 32/32 [00:35<00:00,  1.12s/it]\n",
      "Updating: 100%|██████████| 13/13 [03:55<00:00, 18.11s/it]\n",
      "Collect | Avg. reward: 33.13: 100%|██████████| 32/32 [00:35<00:00,  1.12s/it]\n",
      "Updating: 100%|██████████| 13/13 [03:56<00:00, 18.21s/it]\n",
      "Collect | Avg. reward: 32.55: 100%|██████████| 32/32 [00:35<00:00,  1.11s/it]\n",
      "Updating: 100%|██████████| 13/13 [03:55<00:00, 18.08s/it]\n",
      "Collect | Avg. reward: 32.16: 100%|██████████| 32/32 [00:35<00:00,  1.12s/it]\n",
      "Updating: 100%|██████████| 13/13 [03:56<00:00, 18.20s/it]\n",
      "Collect | Avg. reward: 32.62:  56%|█████▋    | 18/32 [00:19<00:15,  1.11s/it]IOPub message rate exceeded.\n",
      "The notebook server will temporarily stop sending output\n",
      "to the client in order to avoid crashing it.\n",
      "To change this limit, set the config variable\n",
      "`--NotebookApp.iopub_msg_rate_limit`.\n",
      "\n",
      "Current values:\n",
      "NotebookApp.iopub_msg_rate_limit=1000.0 (msgs/sec)\n",
      "NotebookApp.rate_limit_window=3.0 (secs)\n",
      "\n",
      "Collect | Avg. reward: 36.84: 100%|██████████| 32/32 [00:36<00:00,  1.14s/it]\n",
      "Updating: 100%|██████████| 13/13 [04:01<00:00, 18.56s/it]\n",
      "Collect | Avg. reward: 36.49: 100%|██████████| 32/32 [00:36<00:00,  1.13s/it]\n",
      "Updating: 100%|██████████| 13/13 [03:59<00:00, 18.46s/it]\n",
      "Collect | Avg. reward: 37.25: 100%|██████████| 32/32 [00:36<00:00,  1.15s/it]\n",
      "Updating: 100%|██████████| 13/13 [04:01<00:00, 18.58s/it]\n",
      "Collect | Avg. reward: 37.28: 100%|██████████| 32/32 [00:36<00:00,  1.15s/it]\n",
      "Updating: 100%|██████████| 13/13 [04:00<00:00, 18.53s/it]\n",
      "Eval | Avg. reward: 39.29: 100%|██████████| 250/250 [05:48<00:00,  1.39s/it]\n",
      "  0%|          | 0/32 [00:00<?, ?it/s]"
     ]
    },
    {
     "name": "stdout",
     "output_type": "stream",
     "text": [
      "Iter: 950, Avg/Max/Min. reward: 37.3/140.0/0.0, Avg FPS: 0.08\n",
      "Eval Avg/Max/Min. reward: 39.3/135.0/0.0\n"
     ]
    },
    {
     "name": "stderr",
     "output_type": "stream",
     "text": [
      "Collect | Avg. reward: 37.22: 100%|██████████| 32/32 [00:36<00:00,  1.13s/it]\n",
      "Updating: 100%|██████████| 13/13 [03:59<00:00, 18.45s/it]\n",
      "Collect | Avg. reward: 37.26: 100%|██████████| 32/32 [00:36<00:00,  1.13s/it]\n",
      "Updating: 100%|██████████| 13/13 [03:57<00:00, 18.26s/it]\n",
      "Collect | Avg. reward: 37.74: 100%|██████████| 32/32 [00:36<00:00,  1.13s/it]\n",
      "Updating: 100%|██████████| 13/13 [03:58<00:00, 18.37s/it]\n",
      "Collect | Avg. reward: 38.90: 100%|██████████| 32/32 [00:36<00:00,  1.13s/it]\n",
      "Updating: 100%|██████████| 13/13 [03:58<00:00, 18.38s/it]\n",
      "Collect | Avg. reward: 39.78: 100%|██████████| 32/32 [00:36<00:00,  1.14s/it]\n",
      "Updating: 100%|██████████| 13/13 [03:58<00:00, 18.34s/it]\n",
      "Collect | Avg. reward: 38.38: 100%|██████████| 32/32 [00:36<00:00,  1.13s/it]\n",
      "Updating: 100%|██████████| 13/13 [03:57<00:00, 18.25s/it]\n",
      "Collect | Avg. reward: 38.19: 100%|██████████| 32/32 [00:35<00:00,  1.12s/it]\n",
      "Updating: 100%|██████████| 13/13 [03:56<00:00, 18.16s/it]\n",
      "Collect | Avg. reward: 38.40: 100%|██████████| 32/32 [00:36<00:00,  1.14s/it]\n",
      "Updating: 100%|██████████| 13/13 [03:59<00:00, 18.45s/it]\n",
      "Collect | Avg. reward: 38.51: 100%|██████████| 32/32 [00:36<00:00,  1.13s/it]\n",
      "Updating: 100%|██████████| 13/13 [03:56<00:00, 18.23s/it]\n",
      "Collect | Avg. reward: 38.10: 100%|██████████| 32/32 [00:36<00:00,  1.14s/it]\n",
      "Updating: 100%|██████████| 13/13 [03:59<00:00, 18.41s/it]\n",
      "Eval | Avg. reward: 35.92: 100%|██████████| 250/250 [05:15<00:00,  1.26s/it]\n",
      "  0%|          | 0/32 [00:00<?, ?it/s]"
     ]
    },
    {
     "name": "stdout",
     "output_type": "stream",
     "text": [
      "Iter: 960, Avg/Max/Min. reward: 38.1/166.0/0.0, Avg FPS: 0.06\n",
      "Eval Avg/Max/Min. reward: 35.9/126.0/0.0\n"
     ]
    },
    {
     "name": "stderr",
     "output_type": "stream",
     "text": [
      "Collect | Avg. reward: 38.10: 100%|██████████| 32/32 [00:35<00:00,  1.12s/it]\n",
      "Updating: 100%|██████████| 13/13 [03:56<00:00, 18.16s/it]\n",
      "Collect | Avg. reward: 38.50: 100%|██████████| 32/32 [00:36<00:00,  1.13s/it]\n",
      "Updating: 100%|██████████| 13/13 [03:58<00:00, 18.35s/it]\n",
      "Collect | Avg. reward: 37.58: 100%|██████████| 32/32 [00:35<00:00,  1.12s/it]\n",
      "Updating: 100%|██████████| 13/13 [03:47<00:00, 17.51s/it]\n",
      "Collect | Avg. reward: 37.18: 100%|██████████| 32/32 [00:35<00:00,  1.11s/it]\n",
      "Updating: 100%|██████████| 13/13 [03:55<00:00, 18.11s/it]\n",
      "Collect | Avg. reward: 36.60: 100%|██████████| 32/32 [00:35<00:00,  1.12s/it]\n",
      "Updating: 100%|██████████| 13/13 [03:55<00:00, 18.14s/it]\n",
      "Collect | Avg. reward: 37.01: 100%|██████████| 32/32 [00:35<00:00,  1.12s/it]\n",
      "Updating: 100%|██████████| 13/13 [03:56<00:00, 18.20s/it]\n",
      "Collect | Avg. reward: 35.93: 100%|██████████| 32/32 [00:35<00:00,  1.11s/it]\n",
      "Updating: 100%|██████████| 13/13 [03:53<00:00, 17.96s/it]\n",
      "Collect | Avg. reward: 35.08: 100%|██████████| 32/32 [00:35<00:00,  1.12s/it]\n",
      "Updating: 100%|██████████| 13/13 [03:55<00:00, 18.09s/it]\n",
      "Collect | Avg. reward: 35.65: 100%|██████████| 32/32 [00:36<00:00,  1.13s/it]\n",
      "Updating: 100%|██████████| 13/13 [03:58<00:00, 18.31s/it]\n",
      "Collect | Avg. reward: 35.41: 100%|██████████| 32/32 [00:35<00:00,  1.11s/it]\n",
      "Updating: 100%|██████████| 13/13 [03:53<00:00, 17.99s/it]\n",
      "Eval | Avg. reward: 32.00:  11%|█         | 28/250 [00:31<03:49,  1.03s/it]IOPub message rate exceeded.\n",
      "The notebook server will temporarily stop sending output\n",
      "to the client in order to avoid crashing it.\n",
      "To change this limit, set the config variable\n",
      "`--NotebookApp.iopub_msg_rate_limit`.\n",
      "\n",
      "Current values:\n",
      "NotebookApp.iopub_msg_rate_limit=1000.0 (msgs/sec)\n",
      "NotebookApp.rate_limit_window=3.0 (secs)\n",
      "\n",
      "Collect | Avg. reward: 38.80: 100%|██████████| 32/32 [00:36<00:00,  1.14s/it]\n",
      "Updating: 100%|██████████| 13/13 [03:59<00:00, 18.44s/it]\n",
      "Collect | Avg. reward: 40.10: 100%|██████████| 32/32 [00:36<00:00,  1.13s/it]\n",
      "Updating: 100%|██████████| 13/13 [03:57<00:00, 18.31s/it]\n",
      "Eval | Avg. reward: 36.33: 100%|██████████| 250/250 [05:20<00:00,  1.28s/it]\n",
      "  0%|          | 0/32 [00:00<?, ?it/s]"
     ]
    },
    {
     "name": "stdout",
     "output_type": "stream",
     "text": [
      "Iter: 990, Avg/Max/Min. reward: 40.1/194.0/0.0, Avg FPS: 0.04\n",
      "Eval Avg/Max/Min. reward: 36.3/123.0/0.0\n"
     ]
    },
    {
     "name": "stderr",
     "output_type": "stream",
     "text": [
      "Collect | Avg. reward: 40.23: 100%|██████████| 32/32 [00:36<00:00,  1.13s/it]\n",
      "Updating: 100%|██████████| 13/13 [03:58<00:00, 18.32s/it]\n",
      "Collect | Avg. reward: 39.49: 100%|██████████| 32/32 [00:35<00:00,  1.11s/it]\n",
      "Updating: 100%|██████████| 13/13 [03:55<00:00, 18.11s/it]\n",
      "Collect | Avg. reward: 38.73: 100%|██████████| 32/32 [00:35<00:00,  1.12s/it]\n",
      "Updating: 100%|██████████| 13/13 [03:54<00:00, 18.02s/it]\n",
      "Collect | Avg. reward: 38.48: 100%|██████████| 32/32 [00:36<00:00,  1.13s/it]\n",
      "Updating: 100%|██████████| 13/13 [03:56<00:00, 18.22s/it]\n",
      "Collect | Avg. reward: 38.22: 100%|██████████| 32/32 [00:36<00:00,  1.13s/it]\n",
      "Updating: 100%|██████████| 13/13 [03:58<00:00, 18.32s/it]\n",
      "Collect | Avg. reward: 39.07: 100%|██████████| 32/32 [00:35<00:00,  1.12s/it]\n",
      "Updating: 100%|██████████| 13/13 [03:56<00:00, 18.20s/it]\n",
      "Collect | Avg. reward: 39.11: 100%|██████████| 32/32 [00:35<00:00,  1.11s/it]\n",
      "Updating: 100%|██████████| 13/13 [03:54<00:00, 18.07s/it]\n",
      "Collect | Avg. reward: 37.90: 100%|██████████| 32/32 [00:35<00:00,  1.12s/it]\n",
      "Updating: 100%|██████████| 13/13 [03:39<00:00, 16.90s/it]\n",
      "Collect | Avg. reward: 38.43: 100%|██████████| 32/32 [00:36<00:00,  1.13s/it]\n",
      "Updating: 100%|██████████| 13/13 [03:58<00:00, 18.33s/it]\n",
      "Collect | Avg. reward: 38.87: 100%|██████████| 32/32 [00:35<00:00,  1.12s/it]\n",
      "Updating: 100%|██████████| 13/13 [03:57<00:00, 18.28s/it]\n",
      "Eval | Avg. reward: 33.60: 100%|██████████| 250/250 [04:53<00:00,  1.17s/it]\n"
     ]
    },
    {
     "name": "stdout",
     "output_type": "stream",
     "text": [
      "Iter: 1000, Avg/Max/Min. reward: 38.9/167.0/0.0, Avg FPS: 0.05\n",
      "Eval Avg/Max/Min. reward: 33.6/124.0/0.0\n"
     ]
    },
    {
     "name": "stderr",
     "output_type": "stream",
     "text": [
      "Collect | Avg. reward: 36.03: 100%|██████████| 32/32 [00:36<00:00,  1.14s/it]\n",
      "Updating: 100%|██████████| 13/13 [03:58<00:00, 18.37s/it]\n",
      "Collect | Avg. reward: 35.62: 100%|██████████| 32/32 [00:35<00:00,  1.12s/it]\n",
      "Updating: 100%|██████████| 13/13 [03:57<00:00, 18.24s/it]\n",
      "Collect | Avg. reward: 35.52: 100%|██████████| 32/32 [00:35<00:00,  1.12s/it]\n",
      "Updating: 100%|██████████| 13/13 [03:54<00:00, 18.05s/it]\n",
      "Collect | Avg. reward: 34.80: 100%|██████████| 32/32 [00:35<00:00,  1.12s/it]\n",
      "Updating: 100%|██████████| 13/13 [03:56<00:00, 18.21s/it]\n",
      "Collect | Avg. reward: 33.63: 100%|██████████| 32/32 [00:35<00:00,  1.12s/it]\n",
      "Updating: 100%|██████████| 13/13 [03:56<00:00, 18.18s/it]\n",
      "Collect | Avg. reward: 33.68: 100%|██████████| 32/32 [00:35<00:00,  1.12s/it]\n",
      "Updating: 100%|██████████| 13/13 [03:57<00:00, 18.30s/it]\n",
      "Collect | Avg. reward: 33.57: 100%|██████████| 32/32 [00:35<00:00,  1.12s/it]\n",
      "Updating: 100%|██████████| 13/13 [03:56<00:00, 18.18s/it]\n",
      "Collect | Avg. reward: 33.51: 100%|██████████| 32/32 [00:35<00:00,  1.12s/it]\n",
      "Updating: 100%|██████████| 13/13 [03:55<00:00, 18.10s/it]\n",
      "Collect | Avg. reward: 33.84: 100%|██████████| 32/32 [00:36<00:00,  1.13s/it]\n",
      "Updating: 100%|██████████| 13/13 [03:58<00:00, 18.34s/it]\n",
      "Collect | Avg. reward: 34.53: 100%|██████████| 32/32 [00:35<00:00,  1.12s/it]\n",
      "Updating: 100%|██████████| 13/13 [03:55<00:00, 18.10s/it]\n",
      "Eval | Avg. reward: 44.27:  42%|████▏     | 105/250 [02:42<03:40,  1.52s/it]IOPub message rate exceeded.\n",
      "The notebook server will temporarily stop sending output\n",
      "to the client in order to avoid crashing it.\n",
      "To change this limit, set the config variable\n",
      "`--NotebookApp.iopub_msg_rate_limit`.\n",
      "\n",
      "Current values:\n",
      "NotebookApp.iopub_msg_rate_limit=1000.0 (msgs/sec)\n",
      "NotebookApp.rate_limit_window=3.0 (secs)\n",
      "\n",
      "Collect | Avg. reward: 37.82: 100%|██████████| 32/32 [00:35<00:00,  1.11s/it]\n",
      "Updating: 100%|██████████| 13/13 [03:57<00:00, 18.30s/it]\n",
      "Collect | Avg. reward: 38.34: 100%|██████████| 32/32 [00:36<00:00,  1.13s/it]\n",
      "Updating: 100%|██████████| 13/13 [03:57<00:00, 18.26s/it]\n",
      "Collect | Avg. reward: 39.49: 100%|██████████| 32/32 [00:35<00:00,  1.12s/it]\n",
      "Updating: 100%|██████████| 13/13 [03:56<00:00, 18.19s/it]\n",
      "Collect | Avg. reward: 39.27: 100%|██████████| 32/32 [00:36<00:00,  1.13s/it]\n",
      "Updating: 100%|██████████| 13/13 [03:58<00:00, 18.33s/it]\n",
      "Collect | Avg. reward: 39.36: 100%|██████████| 32/32 [00:36<00:00,  1.14s/it]\n",
      "Updating: 100%|██████████| 13/13 [03:59<00:00, 18.45s/it]\n",
      "Eval | Avg. reward: 40.87: 100%|██████████| 250/250 [05:58<00:00,  1.43s/it]\n",
      "  0%|          | 0/32 [00:00<?, ?it/s]"
     ]
    },
    {
     "name": "stdout",
     "output_type": "stream",
     "text": [
      "Iter: 1020, Avg/Max/Min. reward: 39.4/140.0/0.0, Avg FPS: 0.03\n",
      "Eval Avg/Max/Min. reward: 40.9/123.0/0.0\n"
     ]
    },
    {
     "name": "stderr",
     "output_type": "stream",
     "text": [
      "Collect | Avg. reward: 39.33: 100%|██████████| 32/32 [00:36<00:00,  1.13s/it]\n",
      "Updating: 100%|██████████| 13/13 [03:57<00:00, 18.28s/it]\n",
      "Collect | Avg. reward: 39.91: 100%|██████████| 32/32 [00:35<00:00,  1.11s/it]\n",
      "Updating: 100%|██████████| 13/13 [03:54<00:00, 18.07s/it]\n",
      "Collect | Avg. reward: 40.16: 100%|██████████| 32/32 [00:36<00:00,  1.14s/it]\n",
      "Updating: 100%|██████████| 13/13 [03:59<00:00, 18.39s/it]\n",
      "Collect | Avg. reward: 41.39: 100%|██████████| 32/32 [00:36<00:00,  1.13s/it]\n",
      "Updating: 100%|██████████| 13/13 [03:55<00:00, 18.14s/it]\n",
      "Collect | Avg. reward: 42.00: 100%|██████████| 32/32 [00:35<00:00,  1.12s/it]\n",
      "Updating: 100%|██████████| 13/13 [03:57<00:00, 18.24s/it]\n",
      "Collect | Avg. reward: 41.41: 100%|██████████| 32/32 [00:36<00:00,  1.13s/it]\n",
      "Updating: 100%|██████████| 13/13 [03:56<00:00, 18.18s/it]\n",
      "Collect | Avg. reward: 40.05: 100%|██████████| 32/32 [00:35<00:00,  1.12s/it]\n",
      "Updating: 100%|██████████| 13/13 [03:57<00:00, 18.24s/it]\n",
      "Collect | Avg. reward: 41.18: 100%|██████████| 32/32 [00:36<00:00,  1.13s/it]\n",
      "Updating: 100%|██████████| 13/13 [03:56<00:00, 18.23s/it]\n",
      "Collect | Avg. reward: 41.26: 100%|██████████| 32/32 [00:35<00:00,  1.12s/it]\n",
      "Updating: 100%|██████████| 13/13 [03:55<00:00, 18.11s/it]\n",
      "Collect | Avg. reward: 40.12: 100%|██████████| 32/32 [00:35<00:00,  1.12s/it]\n",
      "Updating: 100%|██████████| 13/13 [03:55<00:00, 18.13s/it]\n",
      "Collect | Avg. reward: 40.22: 100%|██████████| 32/32 [00:35<00:00,  1.12s/it]\n",
      "Updating: 100%|██████████| 13/13 [03:57<00:00, 18.29s/it]\n",
      "Collect | Avg. reward: 40.77: 100%|██████████| 32/32 [00:36<00:00,  1.13s/it]\n",
      "Updating: 100%|██████████| 13/13 [03:56<00:00, 18.22s/it]\n",
      "Collect | Avg. reward: 41.97: 100%|██████████| 32/32 [00:35<00:00,  1.12s/it]\n",
      "Updating: 100%|██████████| 13/13 [03:56<00:00, 18.16s/it]\n",
      "Collect | Avg. reward: 41.51: 100%|██████████| 32/32 [00:35<00:00,  1.12s/it]\n",
      "Updating: 100%|██████████| 13/13 [03:56<00:00, 18.18s/it]\n",
      "Collect | Avg. reward: 41.11: 100%|██████████| 32/32 [00:36<00:00,  1.13s/it]\n",
      "Updating: 100%|██████████| 13/13 [03:57<00:00, 18.28s/it]\n",
      "Collect | Avg. reward: 41.33: 100%|██████████| 32/32 [00:35<00:00,  1.12s/it]\n",
      "Updating: 100%|██████████| 13/13 [03:57<00:00, 18.25s/it]\n",
      "Collect | Avg. reward: 42.41: 100%|██████████| 32/32 [00:35<00:00,  1.12s/it]\n",
      "Updating: 100%|██████████| 13/13 [03:54<00:00, 18.05s/it]\n",
      "Collect | Avg. reward: 42.87: 100%|██████████| 32/32 [00:36<00:00,  1.13s/it]\n",
      "Updating: 100%|██████████| 13/13 [03:57<00:00, 18.31s/it]\n",
      "Collect | Avg. reward: 43.52: 100%|██████████| 32/32 [00:36<00:00,  1.13s/it]\n",
      "Updating: 100%|██████████| 13/13 [03:56<00:00, 18.22s/it]\n",
      "Eval | Avg. reward: 43.17: 100%|██████████| 250/250 [06:20<00:00,  1.52s/it]\n",
      "  0%|          | 0/32 [00:00<?, ?it/s]"
     ]
    },
    {
     "name": "stdout",
     "output_type": "stream",
     "text": [
      "Iter: 1040, Avg/Max/Min. reward: 43.5/169.0/0.0, Avg FPS: 0.02\n",
      "Eval Avg/Max/Min. reward: 43.2/190.0/0.0\n"
     ]
    },
    {
     "name": "stderr",
     "output_type": "stream",
     "text": [
      "Collect | Avg. reward: 43.83: 100%|██████████| 32/32 [00:36<00:00,  1.13s/it]\n",
      "Updating: 100%|██████████| 13/13 [03:57<00:00, 18.26s/it]\n",
      "Collect | Avg. reward: 43.16: 100%|██████████| 32/32 [00:35<00:00,  1.12s/it]\n",
      "Updating: 100%|██████████| 13/13 [03:55<00:00, 18.14s/it]\n",
      "Collect | Avg. reward: 43.85: 100%|██████████| 32/32 [00:35<00:00,  1.12s/it]\n",
      "Updating: 100%|██████████| 13/13 [03:55<00:00, 18.13s/it]\n",
      "Collect | Avg. reward: 44.27: 100%|██████████| 32/32 [00:36<00:00,  1.13s/it]\n",
      "Updating: 100%|██████████| 13/13 [03:56<00:00, 18.23s/it]\n",
      "Collect | Avg. reward: 43.59: 100%|██████████| 32/32 [00:36<00:00,  1.13s/it]\n",
      "Updating: 100%|██████████| 13/13 [03:57<00:00, 18.27s/it]\n",
      "Collect | Avg. reward: 44.51: 100%|██████████| 32/32 [00:36<00:00,  1.13s/it]\n",
      "Updating: 100%|██████████| 13/13 [03:58<00:00, 18.33s/it]\n",
      "Collect | Avg. reward: 45.04: 100%|██████████| 32/32 [00:36<00:00,  1.15s/it]\n",
      "Updating: 100%|██████████| 13/13 [04:01<00:00, 18.59s/it]\n",
      "Collect | Avg. reward: 44.99: 100%|██████████| 32/32 [00:36<00:00,  1.13s/it]\n",
      "Updating: 100%|██████████| 13/13 [03:56<00:00, 18.21s/it]\n",
      "Collect | Avg. reward: 44.73: 100%|██████████| 32/32 [00:36<00:00,  1.13s/it]\n",
      "Updating: 100%|██████████| 13/13 [03:56<00:00, 18.18s/it]\n",
      "Collect | Avg. reward: 45.23: 100%|██████████| 32/32 [00:36<00:00,  1.13s/it]\n",
      "Updating: 100%|██████████| 13/13 [03:56<00:00, 18.19s/it]\n",
      "Eval | Avg. reward: 46.99: 100%|██████████| 250/250 [06:55<00:00,  1.66s/it]\n",
      "  0%|          | 0/32 [00:00<?, ?it/s]"
     ]
    },
    {
     "name": "stdout",
     "output_type": "stream",
     "text": [
      "Iter: 1050, Avg/Max/Min. reward: 45.2/172.0/0.0, Avg FPS: 0.03\n",
      "Eval Avg/Max/Min. reward: 47.0/149.0/1.0\n"
     ]
    },
    {
     "name": "stderr",
     "output_type": "stream",
     "text": [
      "Collect | Avg. reward: 44.56: 100%|██████████| 32/32 [00:36<00:00,  1.13s/it]\n",
      "Updating: 100%|██████████| 13/13 [03:57<00:00, 18.25s/it]\n",
      "Collect | Avg. reward: 43.79: 100%|██████████| 32/32 [00:36<00:00,  1.14s/it]\n",
      "Updating: 100%|██████████| 13/13 [03:58<00:00, 18.38s/it]\n",
      "Collect | Avg. reward: 42.92: 100%|██████████| 32/32 [00:36<00:00,  1.13s/it]\n",
      "Updating: 100%|██████████| 13/13 [03:58<00:00, 18.31s/it]\n",
      "Collect | Avg. reward: 41.87: 100%|██████████| 32/32 [00:36<00:00,  1.13s/it]\n",
      "Updating: 100%|██████████| 13/13 [03:56<00:00, 18.18s/it]\n",
      "Collect | Avg. reward: 42.51: 100%|██████████| 32/32 [00:36<00:00,  1.13s/it]\n",
      "Updating: 100%|██████████| 13/13 [03:57<00:00, 18.27s/it]\n",
      "Collect | Avg. reward: 41.27: 100%|██████████| 32/32 [00:36<00:00,  1.13s/it]\n",
      "Updating: 100%|██████████| 13/13 [03:56<00:00, 18.16s/it]\n",
      "Collect | Avg. reward: 41.33: 100%|██████████| 32/32 [00:35<00:00,  1.12s/it]\n",
      "Updating: 100%|██████████| 13/13 [03:55<00:00, 18.11s/it]\n",
      "Collect | Avg. reward: 41.64: 100%|██████████| 32/32 [00:36<00:00,  1.13s/it]\n",
      "Updating: 100%|██████████| 13/13 [03:57<00:00, 18.28s/it]\n",
      "Collect | Avg. reward: 41.07: 100%|██████████| 32/32 [00:35<00:00,  1.12s/it]\n",
      "Updating: 100%|██████████| 13/13 [03:56<00:00, 18.20s/it]\n",
      "Collect | Avg. reward: 40.52: 100%|██████████| 32/32 [00:35<00:00,  1.12s/it]\n",
      "Updating: 100%|██████████| 13/13 [03:56<00:00, 18.17s/it]\n",
      "Eval | Avg. reward: 51.18:  20%|█▉        | 49/250 [01:27<08:49,  2.64s/it]IOPub message rate exceeded.\n",
      "The notebook server will temporarily stop sending output\n",
      "to the client in order to avoid crashing it.\n",
      "To change this limit, set the config variable\n",
      "`--NotebookApp.iopub_msg_rate_limit`.\n",
      "\n",
      "Current values:\n",
      "NotebookApp.iopub_msg_rate_limit=1000.0 (msgs/sec)\n",
      "NotebookApp.rate_limit_window=3.0 (secs)\n",
      "\n",
      "Updating: 100%|██████████| 13/13 [03:55<00:00, 18.09s/it]\n",
      "Eval | Avg. reward: 51.21: 100%|██████████| 250/250 [07:31<00:00,  1.80s/it]\n",
      "  0%|          | 0/32 [00:00<?, ?it/s]"
     ]
    },
    {
     "name": "stdout",
     "output_type": "stream",
     "text": [
      "Iter: 1070, Avg/Max/Min. reward: 43.6/200.0/0.0, Avg FPS: 0.03\n",
      "Eval Avg/Max/Min. reward: 51.2/170.0/0.0\n"
     ]
    },
    {
     "name": "stderr",
     "output_type": "stream",
     "text": [
      "Collect | Avg. reward: 43.79: 100%|██████████| 32/32 [00:35<00:00,  1.11s/it]\n",
      "Updating: 100%|██████████| 13/13 [03:53<00:00, 18.00s/it]\n",
      "Collect | Avg. reward: 44.26: 100%|██████████| 32/32 [00:36<00:00,  1.14s/it]\n",
      "Updating: 100%|██████████| 13/13 [03:58<00:00, 18.36s/it]\n",
      "Collect | Avg. reward: 45.19: 100%|██████████| 32/32 [00:36<00:00,  1.14s/it]\n",
      "Updating: 100%|██████████| 13/13 [03:57<00:00, 18.25s/it]\n",
      "Collect | Avg. reward: 45.15: 100%|██████████| 32/32 [00:35<00:00,  1.12s/it]\n",
      "Updating: 100%|██████████| 13/13 [03:55<00:00, 18.11s/it]\n",
      "Collect | Avg. reward: 45.01: 100%|██████████| 32/32 [00:36<00:00,  1.13s/it]\n",
      "Updating: 100%|██████████| 13/13 [03:55<00:00, 18.13s/it]\n",
      "Collect | Avg. reward: 44.94: 100%|██████████| 32/32 [00:35<00:00,  1.12s/it]\n",
      "Updating: 100%|██████████| 13/13 [03:56<00:00, 18.19s/it]\n",
      "Collect | Avg. reward: 45.54: 100%|██████████| 32/32 [00:36<00:00,  1.14s/it]\n"
     ]
    }
   ],
   "source": [
    "eval(eval_env, 0)\n",
    "for j in count(559):\n",
    "    heap.clear_memory()\n",
    "    final_states = []\n",
    "    with tqdm(total=args.num_steps) as pbar:\n",
    "        for _ in range(args.num_steps):\n",
    "            for i, env in enumerate(envs):\n",
    "                envs[i] = iterate_env(env)\n",
    "            pbar.update(1)\n",
    "            avg_reward = sum([sum(env.rewards) for env in envs])/sum([len(env.rewards) for env in envs])\n",
    "            pbar.set_description('Collect | Avg. reward: %0.2f' % avg_reward)\n",
    "    next_states = {env.id : env.prev_state if env.state is None else env.state for env in envs}\n",
    "    heap.update(next_states)\n",
    "    if j % args.eval_interval == 0:\n",
    "        eval(eval_env, j)"
   ]
  },
  {
   "cell_type": "code",
   "execution_count": null,
   "metadata": {},
   "outputs": [],
   "source": [
    "heap.clear_memory(eval_env.id)"
   ]
  },
  {
   "cell_type": "code",
   "execution_count": null,
   "metadata": {},
   "outputs": [],
   "source": [
    "eval(eval_env, -1)"
   ]
  },
  {
   "cell_type": "code",
   "execution_count": null,
   "metadata": {
    "scrolled": false
   },
   "outputs": [],
   "source": [
    "n = 100\n",
    "heap.plot_stats(n=n)"
   ]
  },
  {
   "cell_type": "code",
   "execution_count": null,
   "metadata": {},
   "outputs": [],
   "source": [
    "heap.clear_memory(eval_env.id)\n",
    "while True:\n",
    "    eval_env = iterate_env(eval_env)\n",
    "    if eval_env.state is None:\n",
    "        break\n",
    "import torch\n",
    "\n",
    "with torch.no_grad():\n",
    "    next_value = heap(eval_env.prev_state, trace_value=True, env=eval_env.id)\n",
    "_, memory = heap.get_inner_state(eval_env.id)\n",
    "memory.compute_returns(torch.tensor([next_value]), 0.99)"
   ]
  },
  {
   "cell_type": "code",
   "execution_count": null,
   "metadata": {},
   "outputs": [],
   "source": [
    "eval_env.rewards"
   ]
  },
  {
   "cell_type": "code",
   "execution_count": null,
   "metadata": {
    "scrolled": true
   },
   "outputs": [],
   "source": [
    "for (i, id, r, pr, rew) in zip(range(10000), memory.unit_ids, memory.returns, memory.value_preds, memory.rewards):\n",
    "    print(id, r, pr, rew, i in memory.discount_marks, i in memory.done_marks)\n",
    "    if i in memory.done_marks:\n",
    "        break"
   ]
  },
  {
   "cell_type": "code",
   "execution_count": null,
   "metadata": {},
   "outputs": [],
   "source": [
    "last_obs = None\n",
    "req_pos = 0\n",
    "cur_pos = 0"
   ]
  },
  {
   "cell_type": "code",
   "execution_count": null,
   "metadata": {
    "scrolled": true
   },
   "outputs": [],
   "source": [
    "for i, (id, act, obs) in enumerate(zip(memory.unit_ids, memory.actions, memory.obs)):\n",
    "    if id == 12 and cur_pos <= req_pos:\n",
    "        last_obs = obs\n",
    "        cur_pos += 1\n",
    "    from_ids = []\n",
    "    if len(obs.shape) == 1:\n",
    "        from_ids = ['env']\n",
    "    else:\n",
    "        for _obs in obs:\n",
    "            from_vec = _obs[:3].numpy()\n",
    "            if np.sum((from_vec - heap.postcodes[0])**2) < 1e-5:\n",
    "                from_id = 0\n",
    "            elif np.sum((from_vec - heap.postcodes[1])**2) < 1e-5:\n",
    "                from_id = 1\n",
    "            elif np.sum((from_vec - heap.postcodes[2])**2) < 1e-5:\n",
    "                from_id = 2\n",
    "            elif np.sum((from_vec - heap.postcodes[3])**2) < 1e-5:\n",
    "                from_id = 3\n",
    "            else:\n",
    "                _from_ids = heap.index.get_nns_by_vector(from_vec, n=2)\n",
    "                from_id = _from_ids[0] if not _from_ids[0] == id else _from_ids[1]\n",
    "            from_ids.append(from_id)\n",
    "    to_ids = []\n",
    "    did_act = []\n",
    "    if act.shape[0] == 1:\n",
    "        to_ids = ['env']\n",
    "        did_act = ['+']\n",
    "        if sigmoid(act[0, 0]) <= args.threshold:\n",
    "            did_act = ['-']\n",
    "        print(act)\n",
    "    else:\n",
    "        for _act in act:\n",
    "            _did_act = '+'\n",
    "            to_vec = _act[1:4].numpy()\n",
    "            _to_ids = heap.index.get_nns_by_vector(to_vec, n=2)\n",
    "            to_id = _to_ids[0] if not _to_ids[0] == id else _to_ids[1]\n",
    "            if sigmoid(_act[0]) <= args.threshold:\n",
    "                _did_act = '-'\n",
    "            to_ids.append(to_id)\n",
    "            did_act.append(_did_act)\n",
    "    if i in memory.discount_marks:\n",
    "        print('-'*80)\n",
    "    if i in memory.done_marks:\n",
    "        print('x'*80)\n",
    "    print(from_ids, '->', id, '->', ['%s%s' % (str(to_id), did_act[j]) for j, to_id in enumerate(to_ids)])"
   ]
  },
  {
   "cell_type": "code",
   "execution_count": null,
   "metadata": {},
   "outputs": [],
   "source": [
    "tst = DebugAttentionBase(7, 1, args.att_num_heads)\n",
    "tst.load_state_dict(heap.units[-1].actor_critic.base.state_dict())\n",
    "tst(last_obs)"
   ]
  },
  {
   "cell_type": "code",
   "execution_count": null,
   "metadata": {},
   "outputs": [],
   "source": []
  }
 ],
 "metadata": {
  "kernelspec": {
   "display_name": "Python 3",
   "language": "python",
   "name": "python3"
  },
  "language_info": {
   "codemirror_mode": {
    "name": "ipython",
    "version": 3
   },
   "file_extension": ".py",
   "mimetype": "text/x-python",
   "name": "python",
   "nbconvert_exporter": "python",
   "pygments_lexer": "ipython3",
   "version": "3.6.9"
  }
 },
 "nbformat": 4,
 "nbformat_minor": 2
}
